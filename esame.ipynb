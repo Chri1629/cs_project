{
 "cells": [
  {
   "cell_type": "markdown",
   "metadata": {},
   "source": [
    "**Setup dell'ambiente**\n",
    "\n",
    "Importazione di tutte le librerie utili al funzionamento del programma e settaggio dei path in cui sono presenti i dati in modo da essere facilmente cambiabili all'inizio del programma."
   ]
  },
  {
   "cell_type": "code",
   "execution_count": 1,
   "metadata": {},
   "outputs": [],
   "source": [
    "import pandas as pd\n",
    "import datetime\n",
    "import numpy as np"
   ]
  },
  {
   "cell_type": "code",
   "execution_count": 2,
   "metadata": {},
   "outputs": [],
   "source": [
    "loans_path = r\"/home/christian/Scrivania/progetti/cs_project/dataset/loans.csv\"\n",
    "loans_lenders_path = r\"/home/christian/Scrivania/progetti/cs_project/dataset/loans_lenders.csv\"\n",
    "lenders_path = r\"/home/christian/Scrivania/progetti/cs_project/dataset/lenders.csv\"\n",
    "country_stats_path = r\"/home/christian/Scrivania/progetti/cs_project/dataset/country_stats.csv\" "
   ]
  },
  {
   "cell_type": "markdown",
   "metadata": {},
   "source": [
    "**1) Normalize the loan_lenders table. In the normalized table, each row must have one loan_id and one lender.**\n",
    "\n",
    "Per questo compito mi occupo di importare il file loans_lenders, di analizzarne la struttura e successivamente decidere come procedere."
   ]
  },
  {
   "cell_type": "code",
   "execution_count": 3,
   "metadata": {},
   "outputs": [],
   "source": [
    "loans_lenders = pd.read_csv(loans_lenders_path)"
   ]
  },
  {
   "cell_type": "code",
   "execution_count": 4,
   "metadata": {},
   "outputs": [
    {
     "data": {
      "text/html": [
       "<div>\n",
       "<style scoped>\n",
       "    .dataframe tbody tr th:only-of-type {\n",
       "        vertical-align: middle;\n",
       "    }\n",
       "\n",
       "    .dataframe tbody tr th {\n",
       "        vertical-align: top;\n",
       "    }\n",
       "\n",
       "    .dataframe thead th {\n",
       "        text-align: right;\n",
       "    }\n",
       "</style>\n",
       "<table border=\"1\" class=\"dataframe\">\n",
       "  <thead>\n",
       "    <tr style=\"text-align: right;\">\n",
       "      <th></th>\n",
       "      <th>loan_id</th>\n",
       "      <th>lenders</th>\n",
       "    </tr>\n",
       "  </thead>\n",
       "  <tbody>\n",
       "    <tr>\n",
       "      <td>0</td>\n",
       "      <td>483693</td>\n",
       "      <td>muc888, sam4326, camaran3922, lachheb1865, reb...</td>\n",
       "    </tr>\n",
       "    <tr>\n",
       "      <td>1</td>\n",
       "      <td>483738</td>\n",
       "      <td>muc888, nora3555, williammanashi, barbara5610,...</td>\n",
       "    </tr>\n",
       "    <tr>\n",
       "      <td>2</td>\n",
       "      <td>485000</td>\n",
       "      <td>muc888, terrystl, richardandsusan8352, sherri4...</td>\n",
       "    </tr>\n",
       "    <tr>\n",
       "      <td>3</td>\n",
       "      <td>486087</td>\n",
       "      <td>muc888, james5068, rudi5955, daniel9859, don92...</td>\n",
       "    </tr>\n",
       "    <tr>\n",
       "      <td>4</td>\n",
       "      <td>534428</td>\n",
       "      <td>muc888, niki3008, teresa9174, mike4896, david7...</td>\n",
       "    </tr>\n",
       "  </tbody>\n",
       "</table>\n",
       "</div>"
      ],
      "text/plain": [
       "   loan_id                                            lenders\n",
       "0   483693  muc888, sam4326, camaran3922, lachheb1865, reb...\n",
       "1   483738  muc888, nora3555, williammanashi, barbara5610,...\n",
       "2   485000  muc888, terrystl, richardandsusan8352, sherri4...\n",
       "3   486087  muc888, james5068, rudi5955, daniel9859, don92...\n",
       "4   534428  muc888, niki3008, teresa9174, mike4896, david7..."
      ]
     },
     "execution_count": 4,
     "metadata": {},
     "output_type": "execute_result"
    }
   ],
   "source": [
    "loans_lenders.head()"
   ]
  },
  {
   "cell_type": "markdown",
   "metadata": {},
   "source": [
    "Vedendo la struttura del dataframe, la normalizzazione della tabella consiste nel separare gli elementi presenti nella colonna lenders in modo che il dataframe sia formato da celle in cui è presente solo una istanza. Per farlo separo gli elementi che si trovano in corrispondenza della virgola, essendoci uno spazio vuoto dopo la virgola dovrò stare attento a considerarlo. Per ovviare a questo problema trasformo gli elementi ad ogni istanza di lenders in una lista."
   ]
  },
  {
   "cell_type": "code",
   "execution_count": 5,
   "metadata": {},
   "outputs": [],
   "source": [
    "loans_lenders['lenders'] = loans_lenders.apply(lambda row: row['lenders'].split(','), axis = 1)"
   ]
  },
  {
   "cell_type": "markdown",
   "metadata": {},
   "source": [
    "Per separare gli elementi utilizzo la funzione *explode* implementata all'interno della libreria pandas che permette di sepoarare gli elementi di una lista lungo l'asse voluto."
   ]
  },
  {
   "cell_type": "code",
   "execution_count": 6,
   "metadata": {},
   "outputs": [],
   "source": [
    "loans_lenders_norm = loans_lenders.explode('lenders')"
   ]
  },
  {
   "cell_type": "code",
   "execution_count": 7,
   "metadata": {},
   "outputs": [
    {
     "data": {
      "text/html": [
       "<div>\n",
       "<style scoped>\n",
       "    .dataframe tbody tr th:only-of-type {\n",
       "        vertical-align: middle;\n",
       "    }\n",
       "\n",
       "    .dataframe tbody tr th {\n",
       "        vertical-align: top;\n",
       "    }\n",
       "\n",
       "    .dataframe thead th {\n",
       "        text-align: right;\n",
       "    }\n",
       "</style>\n",
       "<table border=\"1\" class=\"dataframe\">\n",
       "  <thead>\n",
       "    <tr style=\"text-align: right;\">\n",
       "      <th></th>\n",
       "      <th>loan_id</th>\n",
       "      <th>lenders</th>\n",
       "    </tr>\n",
       "  </thead>\n",
       "  <tbody>\n",
       "    <tr>\n",
       "      <td>0</td>\n",
       "      <td>483693</td>\n",
       "      <td>muc888</td>\n",
       "    </tr>\n",
       "    <tr>\n",
       "      <td>0</td>\n",
       "      <td>483693</td>\n",
       "      <td>sam4326</td>\n",
       "    </tr>\n",
       "    <tr>\n",
       "      <td>0</td>\n",
       "      <td>483693</td>\n",
       "      <td>camaran3922</td>\n",
       "    </tr>\n",
       "    <tr>\n",
       "      <td>0</td>\n",
       "      <td>483693</td>\n",
       "      <td>lachheb1865</td>\n",
       "    </tr>\n",
       "    <tr>\n",
       "      <td>0</td>\n",
       "      <td>483693</td>\n",
       "      <td>rebecca3499</td>\n",
       "    </tr>\n",
       "  </tbody>\n",
       "</table>\n",
       "</div>"
      ],
      "text/plain": [
       "   loan_id       lenders\n",
       "0   483693        muc888\n",
       "0   483693       sam4326\n",
       "0   483693   camaran3922\n",
       "0   483693   lachheb1865\n",
       "0   483693   rebecca3499"
      ]
     },
     "execution_count": 7,
     "metadata": {},
     "output_type": "execute_result"
    }
   ],
   "source": [
    "# Decommentare questa riga per vedere i risultati.\n",
    "loans_lenders_norm.head()"
   ]
  },
  {
   "cell_type": "markdown",
   "metadata": {},
   "source": [
    "**2) For each loan, add a column duration corresponding to the number of days between the disburse time and the planned expiration time. If any of those two dates is missing, also the duration must be missing.**\n",
    "\n",
    "Come per il punto precedente procedo con una esplorazione preliminare del file in cui sono presenti gli attributi utili allo svolgimento del compito. Dopo averne fatto una prima visualizzazione degli attributi si nota che è utile passare gli attributi \"disburse_time\" e \"planned_expiration_time\" come date al momento dell'importazione."
   ]
  },
  {
   "cell_type": "code",
   "execution_count": 8,
   "metadata": {},
   "outputs": [],
   "source": [
    "loans = pd.read_csv(loans_path, parse_dates=[\"disburse_time\", \"planned_expiration_time\"])"
   ]
  },
  {
   "cell_type": "code",
   "execution_count": 9,
   "metadata": {},
   "outputs": [
    {
     "data": {
      "text/html": [
       "<div>\n",
       "<style scoped>\n",
       "    .dataframe tbody tr th:only-of-type {\n",
       "        vertical-align: middle;\n",
       "    }\n",
       "\n",
       "    .dataframe tbody tr th {\n",
       "        vertical-align: top;\n",
       "    }\n",
       "\n",
       "    .dataframe thead th {\n",
       "        text-align: right;\n",
       "    }\n",
       "</style>\n",
       "<table border=\"1\" class=\"dataframe\">\n",
       "  <thead>\n",
       "    <tr style=\"text-align: right;\">\n",
       "      <th></th>\n",
       "      <th>loan_id</th>\n",
       "      <th>loan_name</th>\n",
       "      <th>original_language</th>\n",
       "      <th>description</th>\n",
       "      <th>description_translated</th>\n",
       "      <th>funded_amount</th>\n",
       "      <th>loan_amount</th>\n",
       "      <th>status</th>\n",
       "      <th>activity_name</th>\n",
       "      <th>sector_name</th>\n",
       "      <th>...</th>\n",
       "      <th>raised_time</th>\n",
       "      <th>lender_term</th>\n",
       "      <th>num_lenders_total</th>\n",
       "      <th>num_journal_entries</th>\n",
       "      <th>num_bulk_entries</th>\n",
       "      <th>tags</th>\n",
       "      <th>borrower_genders</th>\n",
       "      <th>borrower_pictured</th>\n",
       "      <th>repayment_interval</th>\n",
       "      <th>distribution_model</th>\n",
       "    </tr>\n",
       "  </thead>\n",
       "  <tbody>\n",
       "    <tr>\n",
       "      <td>0</td>\n",
       "      <td>657307</td>\n",
       "      <td>Aivy</td>\n",
       "      <td>English</td>\n",
       "      <td>Aivy, 21 years of age, is single and lives in ...</td>\n",
       "      <td>NaN</td>\n",
       "      <td>125.0</td>\n",
       "      <td>125.0</td>\n",
       "      <td>funded</td>\n",
       "      <td>General Store</td>\n",
       "      <td>Retail</td>\n",
       "      <td>...</td>\n",
       "      <td>2014-01-15 04:48:22.000 +0000</td>\n",
       "      <td>7.0</td>\n",
       "      <td>3</td>\n",
       "      <td>2</td>\n",
       "      <td>1</td>\n",
       "      <td>NaN</td>\n",
       "      <td>female</td>\n",
       "      <td>true</td>\n",
       "      <td>irregular</td>\n",
       "      <td>field_partner</td>\n",
       "    </tr>\n",
       "    <tr>\n",
       "      <td>1</td>\n",
       "      <td>657259</td>\n",
       "      <td>Idalia Marizza</td>\n",
       "      <td>Spanish</td>\n",
       "      <td>Doña Idalia, esta casada, tiene 57 años de eda...</td>\n",
       "      <td>Idalia, 57, is married and lives with her husb...</td>\n",
       "      <td>400.0</td>\n",
       "      <td>400.0</td>\n",
       "      <td>funded</td>\n",
       "      <td>Used Clothing</td>\n",
       "      <td>Clothing</td>\n",
       "      <td>...</td>\n",
       "      <td>2014-02-25 06:42:06.000 +0000</td>\n",
       "      <td>8.0</td>\n",
       "      <td>11</td>\n",
       "      <td>2</td>\n",
       "      <td>1</td>\n",
       "      <td>NaN</td>\n",
       "      <td>female</td>\n",
       "      <td>true</td>\n",
       "      <td>monthly</td>\n",
       "      <td>field_partner</td>\n",
       "    </tr>\n",
       "    <tr>\n",
       "      <td>2</td>\n",
       "      <td>658010</td>\n",
       "      <td>Aasia</td>\n",
       "      <td>English</td>\n",
       "      <td>Aasia is a 45-year-old married lady and she ha...</td>\n",
       "      <td>NaN</td>\n",
       "      <td>400.0</td>\n",
       "      <td>400.0</td>\n",
       "      <td>funded</td>\n",
       "      <td>General Store</td>\n",
       "      <td>Retail</td>\n",
       "      <td>...</td>\n",
       "      <td>2014-01-24 23:06:18.000 +0000</td>\n",
       "      <td>14.0</td>\n",
       "      <td>16</td>\n",
       "      <td>2</td>\n",
       "      <td>1</td>\n",
       "      <td>#Woman Owned Biz, #Supporting Family, user_fav...</td>\n",
       "      <td>female</td>\n",
       "      <td>true</td>\n",
       "      <td>monthly</td>\n",
       "      <td>field_partner</td>\n",
       "    </tr>\n",
       "    <tr>\n",
       "      <td>3</td>\n",
       "      <td>659347</td>\n",
       "      <td>Gulmira</td>\n",
       "      <td>Russian</td>\n",
       "      <td>Гулмире 36 лет, замужем, вместе с супругом вос...</td>\n",
       "      <td>Gulmira is 36 years old and married.  She and ...</td>\n",
       "      <td>625.0</td>\n",
       "      <td>625.0</td>\n",
       "      <td>funded</td>\n",
       "      <td>Farming</td>\n",
       "      <td>Agriculture</td>\n",
       "      <td>...</td>\n",
       "      <td>2014-01-22 05:29:28.000 +0000</td>\n",
       "      <td>14.0</td>\n",
       "      <td>21</td>\n",
       "      <td>2</td>\n",
       "      <td>1</td>\n",
       "      <td>user_favorite</td>\n",
       "      <td>female</td>\n",
       "      <td>true</td>\n",
       "      <td>monthly</td>\n",
       "      <td>field_partner</td>\n",
       "    </tr>\n",
       "    <tr>\n",
       "      <td>4</td>\n",
       "      <td>656933</td>\n",
       "      <td>Ricky\\t</td>\n",
       "      <td>English</td>\n",
       "      <td>Ricky is a farmer who currently cultivates his...</td>\n",
       "      <td>NaN</td>\n",
       "      <td>425.0</td>\n",
       "      <td>425.0</td>\n",
       "      <td>funded</td>\n",
       "      <td>Farming</td>\n",
       "      <td>Agriculture</td>\n",
       "      <td>...</td>\n",
       "      <td>2014-01-14 17:29:27.000 +0000</td>\n",
       "      <td>7.0</td>\n",
       "      <td>15</td>\n",
       "      <td>2</td>\n",
       "      <td>1</td>\n",
       "      <td>#Animals, #Eco-friendly, #Sustainable Ag</td>\n",
       "      <td>male</td>\n",
       "      <td>true</td>\n",
       "      <td>bullet</td>\n",
       "      <td>field_partner</td>\n",
       "    </tr>\n",
       "  </tbody>\n",
       "</table>\n",
       "<p>5 rows × 31 columns</p>\n",
       "</div>"
      ],
      "text/plain": [
       "   loan_id       loan_name original_language  \\\n",
       "0   657307            Aivy           English   \n",
       "1   657259  Idalia Marizza           Spanish   \n",
       "2   658010           Aasia           English   \n",
       "3   659347         Gulmira           Russian   \n",
       "4   656933         Ricky\\t           English   \n",
       "\n",
       "                                         description  \\\n",
       "0  Aivy, 21 years of age, is single and lives in ...   \n",
       "1  Doña Idalia, esta casada, tiene 57 años de eda...   \n",
       "2  Aasia is a 45-year-old married lady and she ha...   \n",
       "3  Гулмире 36 лет, замужем, вместе с супругом вос...   \n",
       "4  Ricky is a farmer who currently cultivates his...   \n",
       "\n",
       "                              description_translated  funded_amount  \\\n",
       "0                                                NaN          125.0   \n",
       "1  Idalia, 57, is married and lives with her husb...          400.0   \n",
       "2                                                NaN          400.0   \n",
       "3  Gulmira is 36 years old and married.  She and ...          625.0   \n",
       "4                                                NaN          425.0   \n",
       "\n",
       "   loan_amount  status  activity_name  sector_name  ...  \\\n",
       "0        125.0  funded  General Store       Retail  ...   \n",
       "1        400.0  funded  Used Clothing     Clothing  ...   \n",
       "2        400.0  funded  General Store       Retail  ...   \n",
       "3        625.0  funded        Farming  Agriculture  ...   \n",
       "4        425.0  funded        Farming  Agriculture  ...   \n",
       "\n",
       "                     raised_time lender_term num_lenders_total  \\\n",
       "0  2014-01-15 04:48:22.000 +0000         7.0                 3   \n",
       "1  2014-02-25 06:42:06.000 +0000         8.0                11   \n",
       "2  2014-01-24 23:06:18.000 +0000        14.0                16   \n",
       "3  2014-01-22 05:29:28.000 +0000        14.0                21   \n",
       "4  2014-01-14 17:29:27.000 +0000         7.0                15   \n",
       "\n",
       "  num_journal_entries num_bulk_entries  \\\n",
       "0                   2                1   \n",
       "1                   2                1   \n",
       "2                   2                1   \n",
       "3                   2                1   \n",
       "4                   2                1   \n",
       "\n",
       "                                                tags borrower_genders  \\\n",
       "0                                                NaN           female   \n",
       "1                                                NaN           female   \n",
       "2  #Woman Owned Biz, #Supporting Family, user_fav...           female   \n",
       "3                                      user_favorite           female   \n",
       "4           #Animals, #Eco-friendly, #Sustainable Ag             male   \n",
       "\n",
       "   borrower_pictured repayment_interval distribution_model  \n",
       "0               true          irregular      field_partner  \n",
       "1               true            monthly      field_partner  \n",
       "2               true            monthly      field_partner  \n",
       "3               true            monthly      field_partner  \n",
       "4               true             bullet      field_partner  \n",
       "\n",
       "[5 rows x 31 columns]"
      ]
     },
     "execution_count": 9,
     "metadata": {},
     "output_type": "execute_result"
    }
   ],
   "source": [
    "loans.head()"
   ]
  },
  {
   "cell_type": "code",
   "execution_count": 10,
   "metadata": {},
   "outputs": [],
   "source": [
    "loans[\"duration\"] = loans[\"planned_expiration_time\"] - loans[\"disburse_time\"]"
   ]
  },
  {
   "cell_type": "markdown",
   "metadata": {},
   "source": [
    "Controllo per sicurezza quanti sono gli attributi nulli una volta fatta la differenza. In particolare è un numero abbastanza grande."
   ]
  },
  {
   "cell_type": "code",
   "execution_count": 11,
   "metadata": {},
   "outputs": [
    {
     "data": {
      "text/plain": [
       "26.39"
      ]
     },
     "execution_count": 11,
     "metadata": {},
     "output_type": "execute_result"
    }
   ],
   "source": [
    "round(len(loans.loc[loans['duration'].isnull() == True])/len(loans)*100,2)"
   ]
  },
  {
   "cell_type": "markdown",
   "metadata": {},
   "source": [
    "**3) Find the lenders that have funded at least twice.**\n",
    "\n",
    "Per fare questa cosa ho gli attributi già pronti. Per prima cosa bisogna effettuare un merge tra loans_lenders_norm e loans per sapere se tutte le istanze presenti in loans_lenders norm corrispondano allo stato \"funded\", una volta fatto questo mi occupo di tenere solo le righe in cui lo stato è funded e di selezionare solo quelle con un conteggio maggiore di o uguale a 2. Per non sovraccaricare troppo i conti mi preoccupo di fare il merge solo con gli attributi che serviranno durante i conti."
   ]
  },
  {
   "cell_type": "code",
   "execution_count": 12,
   "metadata": {},
   "outputs": [],
   "source": [
    "loans_lenders_merged = pd.merge(loans_lenders_norm, loans[[\"loan_id\", \"status\"]], on=\"loan_id\", how=\"left\")"
   ]
  },
  {
   "cell_type": "code",
   "execution_count": 13,
   "metadata": {},
   "outputs": [],
   "source": [
    "loans_lenders_merged_funded = loans_lenders_merged[loans_lenders_merged[\"status\"] == \"funded\"]"
   ]
  },
  {
   "cell_type": "code",
   "execution_count": 14,
   "metadata": {},
   "outputs": [
    {
     "data": {
      "text/plain": [
       "lenders\n",
       " 000               39\n",
       " 00000             38\n",
       " 0002              70\n",
       " 0101craign0101    71\n",
       " 0132575            4\n",
       "                   ..\n",
       "zyrah8525           4\n",
       "zyrorl              3\n",
       "zzaman              9\n",
       "zzanita             2\n",
       "zzmcfate           54\n",
       "Name: loan_id, Length: 993782, dtype: int64"
      ]
     },
     "execution_count": 14,
     "metadata": {},
     "output_type": "execute_result"
    }
   ],
   "source": [
    "num_loan = loans_lenders_merged_funded.groupby('lenders').count()['loan_id']\n",
    "num_loan.loc[num_loan >= 2]"
   ]
  },
  {
   "cell_type": "markdown",
   "metadata": {},
   "source": [
    "**4) For each country, compute how many loans have involved that country as borrowers.**\n",
    "\n",
    "Durante l'esecuzione di questo punto nasce la problematica causata dal gran numero di NaN presenti nell'attributo duration notato durante l'esecuzione del punto 2. Per effettuare un calcolo corretto bisogna quindi mettere delle condizioni, in particolare creo un nuovo dataframe che contenga le righe di loans con le seguenti caratteristiche:\n",
    "\n",
    "- Non hanno valori null in \"duration\".\n",
    "- Per quanto riguarda i valori in \"planned_expiration_time\" che siano minori di \"disburse_time\" vengono cancellati visto che sono pochi (circa 1\\% come mostrato sotto). "
   ]
  },
  {
   "cell_type": "code",
   "execution_count": 15,
   "metadata": {},
   "outputs": [
    {
     "data": {
      "text/plain": [
       "1.43"
      ]
     },
     "execution_count": 15,
     "metadata": {},
     "output_type": "execute_result"
    }
   ],
   "source": [
    "loans_not_null = loans[loans[\"duration\"].isnull() == False]\n",
    "condition = loans_not_null[loans_not_null[\"planned_expiration_time\"] < loans_not_null[\"disburse_time\"]]\n",
    "round(len(condition)/len(loans_not_null)*100,2)"
   ]
  },
  {
   "cell_type": "code",
   "execution_count": 16,
   "metadata": {},
   "outputs": [],
   "source": [
    "loans_not_null = loans_not_null[loans_not_null[\"planned_expiration_time\"] > loans_not_null[\"disburse_time\"]]"
   ]
  },
  {
   "cell_type": "markdown",
   "metadata": {},
   "source": [
    "Ora mi occuppo di raggruppare per country e di contare solo quelli corretti."
   ]
  },
  {
   "cell_type": "code",
   "execution_count": 17,
   "metadata": {},
   "outputs": [],
   "source": [
    "num_loans_country = loans_not_null.groupby('country_name').count()['loan_id']"
   ]
  },
  {
   "cell_type": "code",
   "execution_count": 18,
   "metadata": {},
   "outputs": [
    {
     "data": {
      "text/plain": [
       "country_name\n",
       "Afghanistan        1\n",
       "Albania         3075\n",
       "Armenia        12809\n",
       "Azerbaijan      4026\n",
       "Belize            98\n",
       "Name: loan_id, dtype: int64"
      ]
     },
     "execution_count": 18,
     "metadata": {},
     "output_type": "execute_result"
    }
   ],
   "source": [
    "#Decommentare questa riga per la visualizzazione dei risultati.\n",
    "num_loans_country.head()"
   ]
  },
  {
   "cell_type": "markdown",
   "metadata": {},
   "source": [
    "**5) For each country, compute the overall amount of money borrowed.** \n",
    "\n",
    "Per farlo è gia a disposizione il dataset sistemato, bisogna solo raggruppare e sommare per paese."
   ]
  },
  {
   "cell_type": "code",
   "execution_count": 19,
   "metadata": {},
   "outputs": [],
   "source": [
    "borr_country = loans_not_null.groupby('country_name')['loan_amount'].sum()\n",
    "borr_country = borr_country.reset_index().rename(columns={\"loan_amount\" : \"borrowed_amount\"})"
   ]
  },
  {
   "cell_type": "code",
   "execution_count": 20,
   "metadata": {},
   "outputs": [],
   "source": [
    "#Decommentare questa riga per vedere i risultati\n",
    "#borr_country"
   ]
  },
  {
   "cell_type": "markdown",
   "metadata": {},
   "source": [
    "**6) Like the previous point, but expressed as a percentage of the overall amount lent.**\n",
    "\n",
    "Allo stesso modo del punto precedente, basta stare attenti a fare il conto giusto."
   ]
  },
  {
   "cell_type": "code",
   "execution_count": 21,
   "metadata": {},
   "outputs": [],
   "source": [
    "overall_amount_lent = loans_not_null['loan_amount'].sum()\n",
    "borr_country_perc = pd.DataFrame(loans_not_null.groupby('country_name')['loan_amount'].sum())\n",
    "borr_country_perc['percentage'] = round(borr_country_perc['loan_amount'] / overall_amount_lent * 100, 2)\n",
    "borr_country_perc = borr_country_perc.rename(columns={\"loan_amount\" : \"loan_amount_perc\"})"
   ]
  },
  {
   "cell_type": "code",
   "execution_count": 22,
   "metadata": {},
   "outputs": [
    {
     "data": {
      "text/html": [
       "<div>\n",
       "<style scoped>\n",
       "    .dataframe tbody tr th:only-of-type {\n",
       "        vertical-align: middle;\n",
       "    }\n",
       "\n",
       "    .dataframe tbody tr th {\n",
       "        vertical-align: top;\n",
       "    }\n",
       "\n",
       "    .dataframe thead th {\n",
       "        text-align: right;\n",
       "    }\n",
       "</style>\n",
       "<table border=\"1\" class=\"dataframe\">\n",
       "  <thead>\n",
       "    <tr style=\"text-align: right;\">\n",
       "      <th></th>\n",
       "      <th>loan_amount_perc</th>\n",
       "      <th>percentage</th>\n",
       "    </tr>\n",
       "    <tr>\n",
       "      <th>country_name</th>\n",
       "      <th></th>\n",
       "      <th></th>\n",
       "    </tr>\n",
       "  </thead>\n",
       "  <tbody>\n",
       "    <tr>\n",
       "      <td>Afghanistan</td>\n",
       "      <td>6000.0</td>\n",
       "      <td>0.00</td>\n",
       "    </tr>\n",
       "    <tr>\n",
       "      <td>Albania</td>\n",
       "      <td>4307350.0</td>\n",
       "      <td>0.50</td>\n",
       "    </tr>\n",
       "    <tr>\n",
       "      <td>Armenia</td>\n",
       "      <td>20579275.0</td>\n",
       "      <td>2.37</td>\n",
       "    </tr>\n",
       "    <tr>\n",
       "      <td>Azerbaijan</td>\n",
       "      <td>6839400.0</td>\n",
       "      <td>0.79</td>\n",
       "    </tr>\n",
       "    <tr>\n",
       "      <td>Belize</td>\n",
       "      <td>65450.0</td>\n",
       "      <td>0.01</td>\n",
       "    </tr>\n",
       "  </tbody>\n",
       "</table>\n",
       "</div>"
      ],
      "text/plain": [
       "              loan_amount_perc  percentage\n",
       "country_name                              \n",
       "Afghanistan             6000.0        0.00\n",
       "Albania              4307350.0        0.50\n",
       "Armenia             20579275.0        2.37\n",
       "Azerbaijan           6839400.0        0.79\n",
       "Belize                 65450.0        0.01"
      ]
     },
     "execution_count": 22,
     "metadata": {},
     "output_type": "execute_result"
    }
   ],
   "source": [
    "#Decommentare questa riga per vedere i risultati.\n",
    "borr_country_perc.head()"
   ]
  },
  {
   "cell_type": "markdown",
   "metadata": {},
   "source": [
    "Eseguo la somma per vedere che il risultato è unitario, ciò è vero a meno di approssimazioni che sono state svolte durante i conteggi:"
   ]
  },
  {
   "cell_type": "code",
   "execution_count": 23,
   "metadata": {},
   "outputs": [
    {
     "data": {
      "text/plain": [
       "99.98"
      ]
     },
     "execution_count": 23,
     "metadata": {},
     "output_type": "execute_result"
    }
   ],
   "source": [
    "round(borr_country_perc['percentage'].sum(),2)"
   ]
  },
  {
   "cell_type": "markdown",
   "metadata": {},
   "source": [
    "**7) Like the three previous points, but split for each year (with respect to disburse time).**\n",
    "\n",
    "Il primo passaggio è quello di riprendere il dataset creato in precedenza e settare l'attributo \"disburse_time\" come indice in modo da poterci applicare il metodo Grouper di pandas."
   ]
  },
  {
   "cell_type": "code",
   "execution_count": 24,
   "metadata": {},
   "outputs": [],
   "source": [
    "loans_not_null[\"disburse_time\"] =  pd.to_datetime(loans_not_null[\"disburse_time\"])\n",
    "loans_not_null = loans_not_null.set_index(\"disburse_time\")\n",
    "loans_by_year_sum = loans_not_null.groupby([\"country_name\", pd.Grouper(freq=\"Y\")])[\"loan_amount\"].sum().to_frame()"
   ]
  },
  {
   "cell_type": "markdown",
   "metadata": {},
   "source": [
    "Ora faccio le stesse cose fatte sopra ma calcolando la percentuale. Per farlo devo contare quanti sono stati e dividere il count per il \"loan_amount\" per il conteggio."
   ]
  },
  {
   "cell_type": "code",
   "execution_count": 25,
   "metadata": {},
   "outputs": [],
   "source": [
    "loans_by_year_perc = loans_by_year_sum\n",
    "loans_by_year_perc[\"loan_amount\"] = loans_by_year_perc[\"loan_amount\"]/overall_amount_lent*100\n",
    "loans_by_year_perc = loans_by_year_perc.rename(columns={\"loan_amount\" : \"loan_amount_perc\"})"
   ]
  },
  {
   "cell_type": "markdown",
   "metadata": {},
   "source": [
    "Faccio come sopra in modo da poter contare questa volta. Rinominiamo sempre gli attributi in modo da permettere una maggiore leggibilità."
   ]
  },
  {
   "cell_type": "code",
   "execution_count": 26,
   "metadata": {},
   "outputs": [],
   "source": [
    "loans_by_year_count = loans_not_null.groupby([\"country_name\", pd.Grouper(freq=\"Y\")])[\"loan_id\"].count().to_frame()\n",
    "loans_by_year_count = loans_by_year_count.rename(columns={\"loan_id\" : \"count\"})"
   ]
  },
  {
   "cell_type": "markdown",
   "metadata": {},
   "source": [
    "Eseguo il merge tra i tre dataframe selezionando solo le colonne che non sono duplicate in modo da avere il minor spreco di memoria possibile."
   ]
  },
  {
   "cell_type": "code",
   "execution_count": 27,
   "metadata": {},
   "outputs": [],
   "source": [
    "country_statistics_by_year = pd.concat([loans_by_year_count, loans_by_year_sum, loans_by_year_perc], axis=1)\n",
    "country_statistics_by_year = country_statistics_by_year.loc[:, ~country_statistics_by_year.columns.duplicated()]\n",
    "country_statistics_by_year = country_statistics_by_year.drop(\"loan_amount\", axis = 1)"
   ]
  },
  {
   "cell_type": "code",
   "execution_count": 28,
   "metadata": {},
   "outputs": [
    {
     "data": {
      "text/html": [
       "<div>\n",
       "<style scoped>\n",
       "    .dataframe tbody tr th:only-of-type {\n",
       "        vertical-align: middle;\n",
       "    }\n",
       "\n",
       "    .dataframe tbody tr th {\n",
       "        vertical-align: top;\n",
       "    }\n",
       "\n",
       "    .dataframe thead th {\n",
       "        text-align: right;\n",
       "    }\n",
       "</style>\n",
       "<table border=\"1\" class=\"dataframe\">\n",
       "  <thead>\n",
       "    <tr style=\"text-align: right;\">\n",
       "      <th></th>\n",
       "      <th></th>\n",
       "      <th>count</th>\n",
       "      <th>loan_amount_perc</th>\n",
       "    </tr>\n",
       "    <tr>\n",
       "      <th>country_name</th>\n",
       "      <th>disburse_time</th>\n",
       "      <th></th>\n",
       "      <th></th>\n",
       "    </tr>\n",
       "  </thead>\n",
       "  <tbody>\n",
       "    <tr>\n",
       "      <td>Afghanistan</td>\n",
       "      <td>2015-12-31 00:00:00+00:00</td>\n",
       "      <td>1</td>\n",
       "      <td>0.000692</td>\n",
       "    </tr>\n",
       "    <tr>\n",
       "      <td rowspan=\"4\" valign=\"top\">Albania</td>\n",
       "      <td>2012-12-31 00:00:00+00:00</td>\n",
       "      <td>332</td>\n",
       "      <td>0.047604</td>\n",
       "    </tr>\n",
       "    <tr>\n",
       "      <td>2013-12-31 00:00:00+00:00</td>\n",
       "      <td>507</td>\n",
       "      <td>0.090706</td>\n",
       "    </tr>\n",
       "    <tr>\n",
       "      <td>2014-12-31 00:00:00+00:00</td>\n",
       "      <td>603</td>\n",
       "      <td>0.104031</td>\n",
       "    </tr>\n",
       "    <tr>\n",
       "      <td>2015-12-31 00:00:00+00:00</td>\n",
       "      <td>638</td>\n",
       "      <td>0.097325</td>\n",
       "    </tr>\n",
       "  </tbody>\n",
       "</table>\n",
       "</div>"
      ],
      "text/plain": [
       "                                        count  loan_amount_perc\n",
       "country_name disburse_time                                     \n",
       "Afghanistan  2015-12-31 00:00:00+00:00      1          0.000692\n",
       "Albania      2012-12-31 00:00:00+00:00    332          0.047604\n",
       "             2013-12-31 00:00:00+00:00    507          0.090706\n",
       "             2014-12-31 00:00:00+00:00    603          0.104031\n",
       "             2015-12-31 00:00:00+00:00    638          0.097325"
      ]
     },
     "execution_count": 28,
     "metadata": {},
     "output_type": "execute_result"
    }
   ],
   "source": [
    "#Decommentare questa riga per stampare i risultati.\n",
    "country_statistics_by_year.head()"
   ]
  },
  {
   "cell_type": "markdown",
   "metadata": {},
   "source": [
    "**8) For each lender, compute the overall amount of money lent.**\n",
    "\n",
    "La prima cosa da fare è capire per ogni id il numero di lenders coinvolti, e ciò viene fatto contando il numero di persone presenti nel loan_id. L'assunzione fatta è che ogni lenders si sia occupato in egual misura di ogni loan. Per farlo uso il dataset già normalizzato creato in precedenza."
   ]
  },
  {
   "cell_type": "code",
   "execution_count": 29,
   "metadata": {},
   "outputs": [],
   "source": [
    "lenders_num = loans_lenders_norm.groupby(\"loan_id\").count()\n",
    "lenders_num = lenders_num.reset_index().rename(columns={\"lenders\" : \"lenders_count\"})"
   ]
  },
  {
   "cell_type": "code",
   "execution_count": 30,
   "metadata": {},
   "outputs": [],
   "source": [
    "lenders_num_details = pd.merge(lenders_num, loans_not_null, on=\"loan_id\")[[\"loan_id\", \"lenders_count\", \"loan_amount\"]]\n",
    "lenders_num_details[\"amount_per_person\"] = lenders_num_details[\"loan_amount\"] / lenders_num_details[\"lenders_count\"]"
   ]
  },
  {
   "cell_type": "code",
   "execution_count": 31,
   "metadata": {},
   "outputs": [],
   "source": [
    "loans_lenders_merged = pd.merge(loans_lenders_norm, lenders_num_details, on=\"loan_id\", how=\"left\")"
   ]
  },
  {
   "cell_type": "code",
   "execution_count": 32,
   "metadata": {},
   "outputs": [],
   "source": [
    "lenders_overall_lent = loans_lenders_merged.groupby(\"lenders\")[\"amount_per_person\"].sum()\n",
    "lenders_overall_lent = lenders_overall_lent.to_frame().reset_index()\n",
    "lenders_overall_lent['amount_per_person'] = round(lenders_overall_lent['amount_per_person'],2)"
   ]
  },
  {
   "cell_type": "code",
   "execution_count": 33,
   "metadata": {},
   "outputs": [
    {
     "data": {
      "text/html": [
       "<div>\n",
       "<style scoped>\n",
       "    .dataframe tbody tr th:only-of-type {\n",
       "        vertical-align: middle;\n",
       "    }\n",
       "\n",
       "    .dataframe tbody tr th {\n",
       "        vertical-align: top;\n",
       "    }\n",
       "\n",
       "    .dataframe thead th {\n",
       "        text-align: right;\n",
       "    }\n",
       "</style>\n",
       "<table border=\"1\" class=\"dataframe\">\n",
       "  <thead>\n",
       "    <tr style=\"text-align: right;\">\n",
       "      <th></th>\n",
       "      <th>lenders</th>\n",
       "      <th>amount_per_person</th>\n",
       "    </tr>\n",
       "  </thead>\n",
       "  <tbody>\n",
       "    <tr>\n",
       "      <td>0</td>\n",
       "      <td>000</td>\n",
       "      <td>1283.36</td>\n",
       "    </tr>\n",
       "    <tr>\n",
       "      <td>1</td>\n",
       "      <td>00000</td>\n",
       "      <td>0.00</td>\n",
       "    </tr>\n",
       "    <tr>\n",
       "      <td>2</td>\n",
       "      <td>0002</td>\n",
       "      <td>677.08</td>\n",
       "    </tr>\n",
       "    <tr>\n",
       "      <td>3</td>\n",
       "      <td>00mike00</td>\n",
       "      <td>52.63</td>\n",
       "    </tr>\n",
       "    <tr>\n",
       "      <td>4</td>\n",
       "      <td>0101craign0101</td>\n",
       "      <td>580.11</td>\n",
       "    </tr>\n",
       "  </tbody>\n",
       "</table>\n",
       "</div>"
      ],
      "text/plain": [
       "           lenders  amount_per_person\n",
       "0              000            1283.36\n",
       "1            00000               0.00\n",
       "2             0002             677.08\n",
       "3         00mike00              52.63\n",
       "4   0101craign0101             580.11"
      ]
     },
     "execution_count": 33,
     "metadata": {},
     "output_type": "execute_result"
    }
   ],
   "source": [
    "#Decommentare questa riga per vedere i risultati\n",
    "lenders_overall_lent.head()"
   ]
  },
  {
   "cell_type": "markdown",
   "metadata": {},
   "source": [
    "**9) For each country, compute the difference between the overall amount of money lent and the overall amount of money borrowed. Since the country of the lender is often unknown, you can assume that the true distribution among the countries is the same as the one computed from the rows where the country is known.**\n",
    "\n",
    "La prima cosa da fare è sistemare il dataframe in modo da averlo senza valori NaN. Una volta diviso il dataframe in queste due parti cerco di calcolare la distribuzione nel dataframe in cui tutto è conosciuto e la applico al secondo dataframe."
   ]
  },
  {
   "cell_type": "code",
   "execution_count": 34,
   "metadata": {},
   "outputs": [],
   "source": [
    "lenders = pd.read_csv(lenders_path)"
   ]
  },
  {
   "cell_type": "code",
   "execution_count": 35,
   "metadata": {},
   "outputs": [],
   "source": [
    "lenders_notnull = lenders.loc[lenders[\"country_code\"].isnull() == False].reset_index()   \n",
    "lenders_null = lenders.loc[lenders[\"country_code\"].isnull() == True].reset_index()   "
   ]
  },
  {
   "cell_type": "markdown",
   "metadata": {},
   "source": [
    "Guardo qual è la percentuale dei not null. Come notiamo il numero di valori nulli è molto alto per questo necessita di un buon riempimento."
   ]
  },
  {
   "cell_type": "code",
   "execution_count": 36,
   "metadata": {},
   "outputs": [
    {
     "data": {
      "text/plain": [
       "62.09"
      ]
     },
     "execution_count": 36,
     "metadata": {},
     "output_type": "execute_result"
    }
   ],
   "source": [
    "round(len(lenders_null) / len(lenders)*100, 2)"
   ]
  },
  {
   "cell_type": "markdown",
   "metadata": {},
   "source": [
    "Calcolo la distribuzione delle nazioni nel dataframe lenders_notnull"
   ]
  },
  {
   "cell_type": "code",
   "execution_count": 37,
   "metadata": {},
   "outputs": [],
   "source": [
    "country_ripartition = lenders_notnull[[\"index\", \"country_code\"]].groupby(\"country_code\").count()\n",
    "country_ripartition = country_ripartition.reset_index().rename(columns = {\"index\":\"n_users\"})\n",
    "country_ripartition[\"percentage\"] = country_ripartition[\"n_users\"]/len(lenders_notnull)*100"
   ]
  },
  {
   "cell_type": "markdown",
   "metadata": {},
   "source": [
    "Ora riempio il dataframe lenders_null in modo che abbia la stessa distribuzione di lenders_notnull.\n",
    "Per fare questo uso la funzione np.random.choice (inserendo come seed '7') in modo che i risultati a cui sono giunto siano riproducibili.\n",
    "In questo modo assegno la nazionalità in modo randomico, ottenendo la distribuzione finale che voglio ottenere per fare questo devo però normalizzare le percentuali."
   ]
  },
  {
   "cell_type": "code",
   "execution_count": 38,
   "metadata": {},
   "outputs": [],
   "source": [
    "country_ripartition[\"percentage\"] /= country_ripartition[\"percentage\"].sum()"
   ]
  },
  {
   "cell_type": "code",
   "execution_count": 39,
   "metadata": {},
   "outputs": [],
   "source": [
    "np.random.seed(7)\n",
    "lenders_null[\"country_code\"] = np.random.choice(country_ripartition[\"country_code\"], size=len(lenders_null.index), p = country_ripartition[\"percentage\"])"
   ]
  },
  {
   "cell_type": "code",
   "execution_count": 40,
   "metadata": {},
   "outputs": [],
   "source": [
    "lenders = pd.concat([lenders_notnull, lenders_null]).drop(columns=\"index\")"
   ]
  },
  {
   "cell_type": "markdown",
   "metadata": {},
   "source": [
    "Ora che il dataframe è sistemato con la distribuzione giusta, proseguo con la richiesta dell'esercizio.\n",
    "Eseguo il merge tra il dataframe \"lenders\" in cui è indicato l'attributo dei lenders e della loro nazionalità e il dataframe \"lenders_overall_lent\" che indica per ogni lender l'importo totale. A quel punto mi occupo di effettuare la giusta query. Come al solito per appesantire meno i conti cancello gli attributi che non sono necessari."
   ]
  },
  {
   "cell_type": "code",
   "execution_count": 41,
   "metadata": {},
   "outputs": [],
   "source": [
    "tot_lent_country = pd.merge(lenders_overall_lent, lenders[[\"permanent_name\", \"country_code\"]], left_on=\"lenders\", right_on=\"permanent_name\")\n",
    "tot_lent_country = tot_lent_country.drop(columns=\"permanent_name\")\n",
    "tot_lent_country = tot_lent_country.groupby(\"country_code\")[\"amount_per_person\"].sum()\n",
    "tot_lent_country = tot_lent_country.to_frame().rename(columns={\"amount_per_person\" : \"lent_amount\"}).reset_index()"
   ]
  },
  {
   "cell_type": "markdown",
   "metadata": {},
   "source": [
    "Nel dataframe \"tot_lent_country\" ho indicato il country_code, mentre nel dataframe \"tot_borr_country\" ho il nome della nazione, informazioni che mi servono entrambe. Eseguo quindi un merge per averle entrambe a portata di mano tenendo solo gli attributi che mi interessano."
   ]
  },
  {
   "cell_type": "code",
   "execution_count": 42,
   "metadata": {},
   "outputs": [],
   "source": [
    "country_stats = pd.read_csv(country_stats_path)\n",
    "loans_country = pd.merge(borr_country, country_stats[[\"country_name\", \"country_code\"]], on=\"country_name\")"
   ]
  },
  {
   "cell_type": "markdown",
   "metadata": {},
   "source": [
    "Unisco ora le informazioni riguardo ai money_lent e ai money_borrowed in modo da poter eseguire la differenza tra questi due valori."
   ]
  },
  {
   "cell_type": "code",
   "execution_count": 43,
   "metadata": {},
   "outputs": [],
   "source": [
    "country_lent_borr = pd.merge(tot_lent_country, loans_country, on=\"country_code\")\n",
    "country_lent_borr = country_lent_borr[[\"country_name\", \"country_code\", \"lent_amount\", \"borrowed_amount\"]]\n",
    "country_lent_borr[\"difference\"] = (country_lent_borr[\"lent_amount\"] - country_lent_borr[\"borrowed_amount\"])"
   ]
  },
  {
   "cell_type": "code",
   "execution_count": 44,
   "metadata": {},
   "outputs": [
    {
     "data": {
      "text/html": [
       "<div>\n",
       "<style scoped>\n",
       "    .dataframe tbody tr th:only-of-type {\n",
       "        vertical-align: middle;\n",
       "    }\n",
       "\n",
       "    .dataframe tbody tr th {\n",
       "        vertical-align: top;\n",
       "    }\n",
       "\n",
       "    .dataframe thead th {\n",
       "        text-align: right;\n",
       "    }\n",
       "</style>\n",
       "<table border=\"1\" class=\"dataframe\">\n",
       "  <thead>\n",
       "    <tr style=\"text-align: right;\">\n",
       "      <th></th>\n",
       "      <th>country_name</th>\n",
       "      <th>country_code</th>\n",
       "      <th>lent_amount</th>\n",
       "      <th>borrowed_amount</th>\n",
       "      <th>difference</th>\n",
       "    </tr>\n",
       "  </thead>\n",
       "  <tbody>\n",
       "    <tr>\n",
       "      <td>0</td>\n",
       "      <td>Afghanistan</td>\n",
       "      <td>AF</td>\n",
       "      <td>6126.40</td>\n",
       "      <td>6000.0</td>\n",
       "      <td>126.40</td>\n",
       "    </tr>\n",
       "    <tr>\n",
       "      <td>1</td>\n",
       "      <td>Albania</td>\n",
       "      <td>AL</td>\n",
       "      <td>1495.80</td>\n",
       "      <td>4307350.0</td>\n",
       "      <td>-4305854.20</td>\n",
       "    </tr>\n",
       "    <tr>\n",
       "      <td>2</td>\n",
       "      <td>Armenia</td>\n",
       "      <td>AM</td>\n",
       "      <td>1897.69</td>\n",
       "      <td>20579275.0</td>\n",
       "      <td>-20577377.31</td>\n",
       "    </tr>\n",
       "    <tr>\n",
       "      <td>3</td>\n",
       "      <td>Azerbaijan</td>\n",
       "      <td>AZ</td>\n",
       "      <td>213.52</td>\n",
       "      <td>6839400.0</td>\n",
       "      <td>-6839186.48</td>\n",
       "    </tr>\n",
       "    <tr>\n",
       "      <td>4</td>\n",
       "      <td>Burkina Faso</td>\n",
       "      <td>BF</td>\n",
       "      <td>71.34</td>\n",
       "      <td>3989650.0</td>\n",
       "      <td>-3989578.66</td>\n",
       "    </tr>\n",
       "  </tbody>\n",
       "</table>\n",
       "</div>"
      ],
      "text/plain": [
       "   country_name country_code  lent_amount  borrowed_amount   difference\n",
       "0   Afghanistan           AF      6126.40           6000.0       126.40\n",
       "1       Albania           AL      1495.80        4307350.0  -4305854.20\n",
       "2       Armenia           AM      1897.69       20579275.0 -20577377.31\n",
       "3    Azerbaijan           AZ       213.52        6839400.0  -6839186.48\n",
       "4  Burkina Faso           BF        71.34        3989650.0  -3989578.66"
      ]
     },
     "execution_count": 44,
     "metadata": {},
     "output_type": "execute_result"
    }
   ],
   "source": [
    "#Decommentare questa riga per vedere i risultati\n",
    "country_lent_borr.head()"
   ]
  },
  {
   "cell_type": "markdown",
   "metadata": {},
   "source": [
    "**10) Which country has the highest ratio between the difference computed at the previous point and the population?**\n",
    "\n",
    "Per risolvere questo punto ho già tutte le informazioni che mi servono a portata di mano, le integro facendo un merge e poi svolgo una semplice query. In questo caso il segno delle differenze è importante perché indica se un paese ha finanziato più o meno soldi di quelli che ha ricevuto."
   ]
  },
  {
   "cell_type": "code",
   "execution_count": 45,
   "metadata": {},
   "outputs": [],
   "source": [
    "country_lent_borr  = pd.merge(country_lent_borr, country_stats[[\"country_code\", \"population\"]], on=\"country_code\")\n",
    "country_lent_borr[\"ratio\"] = country_lent_borr[\"difference\"]/country_lent_borr[\"population\"]\n",
    "max = country_lent_borr[\"ratio\"].idxmax()\n",
    "country_max = country_lent_borr.loc[max]"
   ]
  },
  {
   "cell_type": "code",
   "execution_count": 46,
   "metadata": {},
   "outputs": [
    {
     "data": {
      "text/plain": [
       "country_name       United States\n",
       "country_code                  US\n",
       "lent_amount          3.94815e+07\n",
       "borrowed_amount      2.82160e+07\n",
       "difference           1.12654e+07\n",
       "population             324459463\n",
       "ratio                  0.0347206\n",
       "Name: 67, dtype: object"
      ]
     },
     "execution_count": 46,
     "metadata": {},
     "output_type": "execute_result"
    }
   ],
   "source": [
    "#Decommentare questa riga per vedere i risultati\n",
    "country_max"
   ]
  },
  {
   "cell_type": "markdown",
   "metadata": {},
   "source": [
    "**11) Which country has the highest ratio between the difference computed at point 9 and the population that is not below the poverty line?**\n",
    "\n",
    "Cerco per prima cosa quali sono i paesi sopra la soglia della povertà. Avendo solo pochi valori nulli (circa il 13\\%), per non incasinare troppo il calcolo decido di levare tutti i valori nulli. Calcolo infine il ratio sopra la soglia di povertà e lo inserisco nel dataframe. Attraverso il metodo idxmax trovo il massimo."
   ]
  },
  {
   "cell_type": "code",
   "execution_count": 67,
   "metadata": {},
   "outputs": [
    {
     "data": {
      "text/plain": [
       "87.36"
      ]
     },
     "execution_count": 67,
     "metadata": {},
     "output_type": "execute_result"
    }
   ],
   "source": [
    "country_stats_not_null = country_stats[country_stats[\"population_below_poverty_line\"].isnull() == False]\n",
    "round(len(country_stats_not_null)/len(country_stats)*100,2)"
   ]
  },
  {
   "cell_type": "markdown",
   "metadata": {},
   "source": [
    "L'unico modo che ho per n"
   ]
  },
  {
   "cell_type": "code",
   "execution_count": 71,
   "metadata": {},
   "outputs": [],
   "source": [
    "pd.options.mode.chained_assignment = None \n",
    "country_stats_not_null[\"population_above_poverty_line\"] = (country_stats_not_null[\"population\"] -(country_stats_not_null[\"population\"]*country_stats_not_null[\"population_below_poverty_line\"]/100))"
   ]
  },
  {
   "cell_type": "markdown",
   "metadata": {},
   "source": [
    "Come al solito durante il merge tengo solo gli attributi significativi."
   ]
  },
  {
   "cell_type": "code",
   "execution_count": 72,
   "metadata": {},
   "outputs": [],
   "source": [
    "country_lent_borr  = pd.merge(country_lent_borr, country_stats_not_null[[\"country_code\", \"population_above_poverty_line\"]], on=\"country_code\")"
   ]
  },
  {
   "cell_type": "code",
   "execution_count": 73,
   "metadata": {},
   "outputs": [
    {
     "data": {
      "text/plain": [
       "country_name                       United States\n",
       "country_code                                  US\n",
       "lent_amount                          3.94815e+07\n",
       "borrowed_amount                      2.82160e+07\n",
       "difference                           1.12654e+07\n",
       "population                             324459463\n",
       "ratio                                  0.0347206\n",
       "population_above_poverty_line_x      2.75466e+08\n",
       "ratio_above_poverty                    0.0408959\n",
       "population_above_poverty_line_y      2.75466e+08\n",
       "population_above_poverty_line        2.75466e+08\n",
       "Name: 64, dtype: object"
      ]
     },
     "execution_count": 73,
     "metadata": {},
     "output_type": "execute_result"
    }
   ],
   "source": [
    "country_lent_borr[\"ratio_above_poverty\"] = country_lent_borr[\"difference\"]/country_lent_borr[\"population_above_poverty_line\"]\n",
    "max = country_lent_borr[\"ratio_above_poverty\"].idxmax()\n",
    "country_lent_borr.loc[max]"
   ]
  },
  {
   "cell_type": "markdown",
   "metadata": {},
   "source": [
    "**12)  For each year, compute the total amount of loans. Each loan that has planned expiration time and disburse time in different years must have its amount distributed proportionally to the number of days in each year. For example, a loan with disburse time December 1st, 2016, planned expiration time January 30th 2018, and amount 5000USD has an amount of 5000USD * 31 / (31+365+30) = 363.85 for 2016, 5000USD * 365 / (31+365+30) = 4284.04 for 2017, and 5000USD * 30 / (31+365+30) = 352.11 for 2018.**\n",
    "\n",
    "La prima cosa da fare per velocizzare i conti è suddividere il dataframe in due dataframe, il primo conterrà solo gli elementi per cui \"disburse year\" e \"expiration year\" si collocano nello stesso anno, il secondo in cui gli anni dei due attributi sono differenti. Questa suddivisione nasce dal fatto che il conto per gli elementi che si trovano nello stesso annoè notevolmente più facile."
   ]
  },
  {
   "cell_type": "markdown",
   "metadata": {},
   "source": [
    "Per prima cosa resetto gli indici del dataframe che ho già pronto e mi occupo di rimuovere il fuso orario e le ore poiché sono ininfluenti nel calcolo"
   ]
  },
  {
   "cell_type": "code",
   "execution_count": 51,
   "metadata": {},
   "outputs": [],
   "source": [
    "loans_not_null = loans_not_null.reset_index()\n",
    "\n",
    "loans_not_null[\"disburse_time\"] = loans_not_null[\"disburse_time\"].dt.tz_localize(None)\n",
    "loans_not_null[\"planned_expiration_time\"] = loans_not_null[\"planned_expiration_time\"].dt.tz_localize(None)\n",
    "loans_not_null[\"disburse_time\"] = loans_not_null[\"disburse_time\"].dt.normalize()\n",
    "loans_not_null[\"planned_expiration_time\"] = loans_not_null[\"planned_expiration_time\"].dt.normalize()"
   ]
  },
  {
   "cell_type": "markdown",
   "metadata": {},
   "source": [
    "Divido ora il dataframe nei due sottoinsiemi"
   ]
  },
  {
   "cell_type": "code",
   "execution_count": 52,
   "metadata": {},
   "outputs": [],
   "source": [
    "loans_same_year = loans_not_null[loans_not_null[\"disburse_time\"].dt.year == loans_not_null[\"planned_expiration_time\"].dt.year][[\"loan_id\" , \"disburse_time\", \"planned_expiration_time\",\"loan_amount\"]]\n",
    "loans_diff_year = loans_not_null[loans_not_null[\"disburse_time\"].dt.year != loans_not_null[\"planned_expiration_time\"].dt.year][[\"loan_id\" ,\"disburse_time\", \"planned_expiration_time\",\"loan_amount\"]]"
   ]
  },
  {
   "cell_type": "markdown",
   "metadata": {},
   "source": [
    "Mi occupo prima del calcolo di quelli dello stesso anno"
   ]
  },
  {
   "cell_type": "code",
   "execution_count": 53,
   "metadata": {},
   "outputs": [],
   "source": [
    "loans_same_year_tot = loans_same_year.groupby(loans_same_year[\"disburse_time\"].dt.year)[\"loan_amount\"].sum()\n",
    "loans_same_year_tot = loans_same_year_tot.to_frame().reset_index()\n",
    "loans_same_year_tot.columns = ['year', 'amount_same']"
   ]
  },
  {
   "cell_type": "code",
   "execution_count": 54,
   "metadata": {},
   "outputs": [
    {
     "data": {
      "text/html": [
       "<div>\n",
       "<style scoped>\n",
       "    .dataframe tbody tr th:only-of-type {\n",
       "        vertical-align: middle;\n",
       "    }\n",
       "\n",
       "    .dataframe tbody tr th {\n",
       "        vertical-align: top;\n",
       "    }\n",
       "\n",
       "    .dataframe thead th {\n",
       "        text-align: right;\n",
       "    }\n",
       "</style>\n",
       "<table border=\"1\" class=\"dataframe\">\n",
       "  <thead>\n",
       "    <tr style=\"text-align: right;\">\n",
       "      <th></th>\n",
       "      <th>year</th>\n",
       "      <th>amount_same</th>\n",
       "    </tr>\n",
       "  </thead>\n",
       "  <tbody>\n",
       "    <tr>\n",
       "      <td>0</td>\n",
       "      <td>2012</td>\n",
       "      <td>103911725.0</td>\n",
       "    </tr>\n",
       "    <tr>\n",
       "      <td>1</td>\n",
       "      <td>2013</td>\n",
       "      <td>98427750.0</td>\n",
       "    </tr>\n",
       "    <tr>\n",
       "      <td>2</td>\n",
       "      <td>2014</td>\n",
       "      <td>120644250.0</td>\n",
       "    </tr>\n",
       "    <tr>\n",
       "      <td>3</td>\n",
       "      <td>2015</td>\n",
       "      <td>131208475.0</td>\n",
       "    </tr>\n",
       "    <tr>\n",
       "      <td>4</td>\n",
       "      <td>2016</td>\n",
       "      <td>133271575.0</td>\n",
       "    </tr>\n",
       "    <tr>\n",
       "      <td>5</td>\n",
       "      <td>2017</td>\n",
       "      <td>144870625.0</td>\n",
       "    </tr>\n",
       "    <tr>\n",
       "      <td>6</td>\n",
       "      <td>2018</td>\n",
       "      <td>85300.0</td>\n",
       "    </tr>\n",
       "  </tbody>\n",
       "</table>\n",
       "</div>"
      ],
      "text/plain": [
       "   year  amount_same\n",
       "0  2012  103911725.0\n",
       "1  2013   98427750.0\n",
       "2  2014  120644250.0\n",
       "3  2015  131208475.0\n",
       "4  2016  133271575.0\n",
       "5  2017  144870625.0\n",
       "6  2018      85300.0"
      ]
     },
     "execution_count": 54,
     "metadata": {},
     "output_type": "execute_result"
    }
   ],
   "source": [
    "#Decommentare la riga seguente per vedere i risultati\n",
    "loans_same_year_tot"
   ]
  },
  {
   "cell_type": "markdown",
   "metadata": {},
   "source": [
    "Adesso creo la funzione che calcola il loan amount per ogni anno. Per farlo noto che:\n",
    "\n",
    "$amount_{year} = \\frac{amount_{totale}}{day_{start} + 365 * ({year_{end} - year_{start} - 1}) + day_{end}} * day_{year} = \\frac{amount_{totale}}{tot_{days}} * day_{year} $ \n",
    "\n",
    "Dove:\n",
    "\n",
    "- $day_{start}$ indica i giorni che intercorrono tra l'inizio del prestito e la fine del primo anno.\n",
    "- $day_{end}$ indica i giorni che intercorrono tra l'inizio dell'ultimo anno e la fine del prestito.\n",
    "\n",
    "Notiamo quindi che per ogni anno il coefficiente davanti a $day_{year}$ è costante e facilmente calcolabile.\n",
    "Il punto cruciale per avere meno tempo di computazione sta nel lavorare sulle colonne, per farlo devo duplicare le righe in modo da avere tutti gli anni intermedi e successivamente applicare la formula scritta sopra alle colonne. *Devo quindi duplicare ogni riga tante volte quanti sono gli anni intermedi* e ciò equivale a:\n",
    "\n",
    "${year_{end} - year_{start} - 1}$\n",
    "\n",
    "Cro per prima cosa le righe duplicate:"
   ]
  },
  {
   "cell_type": "code",
   "execution_count": 55,
   "metadata": {},
   "outputs": [],
   "source": [
    "loans_diff_year = loans_diff_year.loc[loans_diff_year.index.repeat(loans_diff_year['planned_expiration_time'].dt.year - loans_diff_year['disburse_time'].dt.year + 1)]"
   ]
  },
  {
   "cell_type": "markdown",
   "metadata": {},
   "source": [
    "Ora creo la colonna 'time_int_start' che tiene memoria dell'inizio dell'anno intermedio, che corrisponderà sempre a 1/1/20xx, successivamente creo la colonna 'time_int_end' che sarà sempre del tipo 31/12/20xx. In questo modo effettuare le differenze sulle colonne sarà molto più veloce che non farlo sulle righe."
   ]
  },
  {
   "cell_type": "code",
   "execution_count": 56,
   "metadata": {},
   "outputs": [],
   "source": [
    "y = loans_diff_year[\"disburse_time\"].dt.year\n",
    "\n",
    "loans_diff_year[\"time_int_start\"] = loans_diff_year.drop_duplicates()[\"disburse_time\"].dt.year.apply(lambda x: datetime.datetime(x, 1, 1)) \n",
    "loans_diff_year[\"time_int_end\"] = pd.to_datetime(loans_diff_year.groupby(loans_diff_year[\"loan_id\"]).cumcount() + y, format='%Y')"
   ]
  },
  {
   "cell_type": "markdown",
   "metadata": {},
   "source": [
    "Ora vado a popolare quei due attributi nel modo che ho descritto sopra."
   ]
  },
  {
   "cell_type": "code",
   "execution_count": 57,
   "metadata": {},
   "outputs": [],
   "source": [
    "loans_diff_year[\"time_int_start\"] = pd.to_datetime(loans_diff_year.groupby(loans_diff_year[\"loan_id\"]).cumcount() + y, format='%Y')\n",
    "loans_diff_year[\"time_int_end\"] = loans_diff_year[\"time_int_start\"].dt.year.apply(lambda x: datetime.datetime(x, 12, 31)) "
   ]
  },
  {
   "cell_type": "markdown",
   "metadata": {},
   "source": [
    "Calcolo quindi i $day_{year}$ dell'equazione scritta in precedenza. E' importante resettare l'indice perché potrebbe essersi scombinato dopo le duplicazioni."
   ]
  },
  {
   "cell_type": "code",
   "execution_count": 58,
   "metadata": {},
   "outputs": [],
   "source": [
    "loans_diff_year = loans_diff_year.reset_index()"
   ]
  },
  {
   "cell_type": "code",
   "execution_count": 59,
   "metadata": {},
   "outputs": [],
   "source": [
    "loans_diff_year.loc[(loans_diff_year[\"planned_expiration_time\"].dt.year > loans_diff_year[\"time_int_end\"].dt.year) & (loans_diff_year[\"disburse_time\"].dt.year == loans_diff_year[\"time_int_start\"].dt.year), \"days_per_year\"] = (loans_diff_year[\"time_int_end\"] - loans_diff_year[\"disburse_time\"]).dt.days +1                                      \n",
    "loans_diff_year.loc[(loans_diff_year[\"planned_expiration_time\"].dt.year > loans_diff_year[\"time_int_end\"].dt.year) & (loans_diff_year[\"disburse_time\"].dt.year != loans_diff_year[\"time_int_start\"].dt.year), \"days_per_year\"] = (loans_diff_year[\"time_int_end\"] - loans_diff_year[\"time_int_start\"]).dt.days +1                                           \n",
    "loans_diff_year.loc[(loans_diff_year[\"planned_expiration_time\"].dt.year == loans_diff_year[\"time_int_end\"].dt.year), \"days_per_year\"] = (loans_diff_year[\"planned_expiration_time\"] - loans_diff_year[\"time_int_start\"]).dt.days +1    "
   ]
  },
  {
   "cell_type": "markdown",
   "metadata": {},
   "source": [
    "Stampo per vedere se il dataframe è come voglio."
   ]
  },
  {
   "cell_type": "code",
   "execution_count": 60,
   "metadata": {},
   "outputs": [
    {
     "data": {
      "text/html": [
       "<div>\n",
       "<style scoped>\n",
       "    .dataframe tbody tr th:only-of-type {\n",
       "        vertical-align: middle;\n",
       "    }\n",
       "\n",
       "    .dataframe tbody tr th {\n",
       "        vertical-align: top;\n",
       "    }\n",
       "\n",
       "    .dataframe thead th {\n",
       "        text-align: right;\n",
       "    }\n",
       "</style>\n",
       "<table border=\"1\" class=\"dataframe\">\n",
       "  <thead>\n",
       "    <tr style=\"text-align: right;\">\n",
       "      <th></th>\n",
       "      <th>index</th>\n",
       "      <th>loan_id</th>\n",
       "      <th>disburse_time</th>\n",
       "      <th>planned_expiration_time</th>\n",
       "      <th>loan_amount</th>\n",
       "      <th>time_int_start</th>\n",
       "      <th>time_int_end</th>\n",
       "      <th>days_per_year</th>\n",
       "    </tr>\n",
       "  </thead>\n",
       "  <tbody>\n",
       "    <tr>\n",
       "      <td>0</td>\n",
       "      <td>0</td>\n",
       "      <td>657307</td>\n",
       "      <td>2013-12-22</td>\n",
       "      <td>2014-02-14</td>\n",
       "      <td>125.0</td>\n",
       "      <td>2013-01-01</td>\n",
       "      <td>2013-12-31</td>\n",
       "      <td>10.0</td>\n",
       "    </tr>\n",
       "    <tr>\n",
       "      <td>1</td>\n",
       "      <td>0</td>\n",
       "      <td>657307</td>\n",
       "      <td>2013-12-22</td>\n",
       "      <td>2014-02-14</td>\n",
       "      <td>125.0</td>\n",
       "      <td>2014-01-01</td>\n",
       "      <td>2014-12-31</td>\n",
       "      <td>45.0</td>\n",
       "    </tr>\n",
       "    <tr>\n",
       "      <td>2</td>\n",
       "      <td>1</td>\n",
       "      <td>657259</td>\n",
       "      <td>2013-12-20</td>\n",
       "      <td>2014-03-26</td>\n",
       "      <td>400.0</td>\n",
       "      <td>2013-01-01</td>\n",
       "      <td>2013-12-31</td>\n",
       "      <td>12.0</td>\n",
       "    </tr>\n",
       "    <tr>\n",
       "      <td>3</td>\n",
       "      <td>1</td>\n",
       "      <td>657259</td>\n",
       "      <td>2013-12-20</td>\n",
       "      <td>2014-03-26</td>\n",
       "      <td>400.0</td>\n",
       "      <td>2014-01-01</td>\n",
       "      <td>2014-12-31</td>\n",
       "      <td>85.0</td>\n",
       "    </tr>\n",
       "    <tr>\n",
       "      <td>4</td>\n",
       "      <td>4</td>\n",
       "      <td>656933</td>\n",
       "      <td>2013-12-17</td>\n",
       "      <td>2014-02-13</td>\n",
       "      <td>425.0</td>\n",
       "      <td>2013-01-01</td>\n",
       "      <td>2013-12-31</td>\n",
       "      <td>15.0</td>\n",
       "    </tr>\n",
       "  </tbody>\n",
       "</table>\n",
       "</div>"
      ],
      "text/plain": [
       "   index  loan_id disburse_time planned_expiration_time  loan_amount  \\\n",
       "0      0   657307    2013-12-22              2014-02-14        125.0   \n",
       "1      0   657307    2013-12-22              2014-02-14        125.0   \n",
       "2      1   657259    2013-12-20              2014-03-26        400.0   \n",
       "3      1   657259    2013-12-20              2014-03-26        400.0   \n",
       "4      4   656933    2013-12-17              2014-02-13        425.0   \n",
       "\n",
       "  time_int_start time_int_end  days_per_year  \n",
       "0     2013-01-01   2013-12-31           10.0  \n",
       "1     2014-01-01   2014-12-31           45.0  \n",
       "2     2013-01-01   2013-12-31           12.0  \n",
       "3     2014-01-01   2014-12-31           85.0  \n",
       "4     2013-01-01   2013-12-31           15.0  "
      ]
     },
     "execution_count": 60,
     "metadata": {},
     "output_type": "execute_result"
    }
   ],
   "source": [
    "loans_diff_year.head()"
   ]
  },
  {
   "cell_type": "markdown",
   "metadata": {},
   "source": [
    "Calcolo quindi i $tot_{days}$ dell'equazione scritta in precedenza ossia il denominatore."
   ]
  },
  {
   "cell_type": "code",
   "execution_count": 61,
   "metadata": {},
   "outputs": [],
   "source": [
    "loans_diff_year[\"tot_days\"] = (loans_diff_year[\"planned_expiration_time\"] - loans_diff_year[\"disburse_time\"]).dt.days +1     "
   ]
  },
  {
   "cell_type": "markdown",
   "metadata": {},
   "source": [
    "Applico quindi la formula scritta in precedenza e creo il dataframe che dovrò unire a quello calcolato in precedenza:"
   ]
  },
  {
   "cell_type": "code",
   "execution_count": 62,
   "metadata": {},
   "outputs": [],
   "source": [
    "loans_diff_year[\"loan_amount_per_year\"] = (loans_diff_year[\"loan_amount\"]* loans_diff_year[\"days_per_year\"])/loans_diff_year[\"tot_days\"]\n",
    "loans_diff_year_tot = loans_diff_year.groupby(loans_diff_year[\"time_int_start\"].dt.year)[\"loan_amount_per_year\"].sum()\n",
    "loans_diff_year_tot = loans_diff_year_tot.to_frame().reset_index()\n",
    "loans_diff_year_tot.columns = ['year', 'amount_diff'] "
   ]
  },
  {
   "cell_type": "code",
   "execution_count": 63,
   "metadata": {},
   "outputs": [
    {
     "data": {
      "text/html": [
       "<div>\n",
       "<style scoped>\n",
       "    .dataframe tbody tr th:only-of-type {\n",
       "        vertical-align: middle;\n",
       "    }\n",
       "\n",
       "    .dataframe tbody tr th {\n",
       "        vertical-align: top;\n",
       "    }\n",
       "\n",
       "    .dataframe thead th {\n",
       "        text-align: right;\n",
       "    }\n",
       "</style>\n",
       "<table border=\"1\" class=\"dataframe\">\n",
       "  <thead>\n",
       "    <tr style=\"text-align: right;\">\n",
       "      <th></th>\n",
       "      <th>year</th>\n",
       "      <th>amount_diff</th>\n",
       "    </tr>\n",
       "  </thead>\n",
       "  <tbody>\n",
       "    <tr>\n",
       "      <td>0</td>\n",
       "      <td>2011</td>\n",
       "      <td>6.614928e+05</td>\n",
       "    </tr>\n",
       "    <tr>\n",
       "      <td>1</td>\n",
       "      <td>2012</td>\n",
       "      <td>9.251024e+06</td>\n",
       "    </tr>\n",
       "    <tr>\n",
       "      <td>2</td>\n",
       "      <td>2013</td>\n",
       "      <td>2.512557e+07</td>\n",
       "    </tr>\n",
       "    <tr>\n",
       "      <td>3</td>\n",
       "      <td>2014</td>\n",
       "      <td>3.001850e+07</td>\n",
       "    </tr>\n",
       "    <tr>\n",
       "      <td>4</td>\n",
       "      <td>2015</td>\n",
       "      <td>2.394231e+07</td>\n",
       "    </tr>\n",
       "    <tr>\n",
       "      <td>5</td>\n",
       "      <td>2016</td>\n",
       "      <td>2.081552e+07</td>\n",
       "    </tr>\n",
       "    <tr>\n",
       "      <td>6</td>\n",
       "      <td>2017</td>\n",
       "      <td>2.046922e+07</td>\n",
       "    </tr>\n",
       "    <tr>\n",
       "      <td>7</td>\n",
       "      <td>2018</td>\n",
       "      <td>4.877086e+06</td>\n",
       "    </tr>\n",
       "  </tbody>\n",
       "</table>\n",
       "</div>"
      ],
      "text/plain": [
       "   year   amount_diff\n",
       "0  2011  6.614928e+05\n",
       "1  2012  9.251024e+06\n",
       "2  2013  2.512557e+07\n",
       "3  2014  3.001850e+07\n",
       "4  2015  2.394231e+07\n",
       "5  2016  2.081552e+07\n",
       "6  2017  2.046922e+07\n",
       "7  2018  4.877086e+06"
      ]
     },
     "execution_count": 63,
     "metadata": {},
     "output_type": "execute_result"
    }
   ],
   "source": [
    "# Decommentare questa riga per vedere i risultati\n",
    "loans_diff_year_tot"
   ]
  },
  {
   "cell_type": "markdown",
   "metadata": {},
   "source": [
    "Ora che ho i due dataframe pronti faccio un merge in modo da avere le colonne affiancate e le sommo. I valori nulli che avevo prima devo fare in modo di sostituirli con 0 affinché la somma tra i due mi restituisca un numero e non 0."
   ]
  },
  {
   "cell_type": "code",
   "execution_count": 64,
   "metadata": {},
   "outputs": [],
   "source": [
    "amount_per_year = pd.merge(loans_diff_year_tot, loans_same_year_tot, on = 'year', how=\"outer\")"
   ]
  },
  {
   "cell_type": "code",
   "execution_count": 65,
   "metadata": {},
   "outputs": [],
   "source": [
    "amount_per_year[[\"amount_diff\" , \"amount_same\"]] = amount_per_year[[\"amount_diff\" , \"amount_same\"]].fillna(0)\n",
    "amount_per_year[\"amount\"] = amount_per_year[\"amount_diff\"] + amount_per_year[\"amount_same\"]\n",
    "amount_per_year = amount_per_year[['year', 'amount']]"
   ]
  },
  {
   "cell_type": "code",
   "execution_count": 66,
   "metadata": {},
   "outputs": [
    {
     "data": {
      "text/html": [
       "<div>\n",
       "<style scoped>\n",
       "    .dataframe tbody tr th:only-of-type {\n",
       "        vertical-align: middle;\n",
       "    }\n",
       "\n",
       "    .dataframe tbody tr th {\n",
       "        vertical-align: top;\n",
       "    }\n",
       "\n",
       "    .dataframe thead th {\n",
       "        text-align: right;\n",
       "    }\n",
       "</style>\n",
       "<table border=\"1\" class=\"dataframe\">\n",
       "  <thead>\n",
       "    <tr style=\"text-align: right;\">\n",
       "      <th></th>\n",
       "      <th>year</th>\n",
       "      <th>amount</th>\n",
       "    </tr>\n",
       "  </thead>\n",
       "  <tbody>\n",
       "    <tr>\n",
       "      <td>0</td>\n",
       "      <td>2011</td>\n",
       "      <td>6.614928e+05</td>\n",
       "    </tr>\n",
       "    <tr>\n",
       "      <td>1</td>\n",
       "      <td>2012</td>\n",
       "      <td>1.131627e+08</td>\n",
       "    </tr>\n",
       "    <tr>\n",
       "      <td>2</td>\n",
       "      <td>2013</td>\n",
       "      <td>1.235533e+08</td>\n",
       "    </tr>\n",
       "    <tr>\n",
       "      <td>3</td>\n",
       "      <td>2014</td>\n",
       "      <td>1.506627e+08</td>\n",
       "    </tr>\n",
       "    <tr>\n",
       "      <td>4</td>\n",
       "      <td>2015</td>\n",
       "      <td>1.551508e+08</td>\n",
       "    </tr>\n",
       "    <tr>\n",
       "      <td>5</td>\n",
       "      <td>2016</td>\n",
       "      <td>1.540871e+08</td>\n",
       "    </tr>\n",
       "    <tr>\n",
       "      <td>6</td>\n",
       "      <td>2017</td>\n",
       "      <td>1.653398e+08</td>\n",
       "    </tr>\n",
       "    <tr>\n",
       "      <td>7</td>\n",
       "      <td>2018</td>\n",
       "      <td>4.962386e+06</td>\n",
       "    </tr>\n",
       "  </tbody>\n",
       "</table>\n",
       "</div>"
      ],
      "text/plain": [
       "   year        amount\n",
       "0  2011  6.614928e+05\n",
       "1  2012  1.131627e+08\n",
       "2  2013  1.235533e+08\n",
       "3  2014  1.506627e+08\n",
       "4  2015  1.551508e+08\n",
       "5  2016  1.540871e+08\n",
       "6  2017  1.653398e+08\n",
       "7  2018  4.962386e+06"
      ]
     },
     "execution_count": 66,
     "metadata": {},
     "output_type": "execute_result"
    }
   ],
   "source": [
    "#Decommentare questa riga per vedere i risultati.\n",
    "amount_per_year"
   ]
  }
 ],
 "metadata": {
  "kernelspec": {
   "display_name": "Python 3",
   "language": "python",
   "name": "python3"
  },
  "language_info": {
   "codemirror_mode": {
    "name": "ipython",
    "version": 3
   },
   "file_extension": ".py",
   "mimetype": "text/x-python",
   "name": "python",
   "nbconvert_exporter": "python",
   "pygments_lexer": "ipython3",
   "version": "3.7.4"
  }
 },
 "nbformat": 4,
 "nbformat_minor": 4
}
