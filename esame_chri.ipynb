{
 "cells": [
  {
   "cell_type": "markdown",
   "metadata": {},
   "source": [
    "# Progetto Computer Science\n",
    "\n",
    "*Nome:* Christian\n",
    "\n",
    "*Cognome:* Uccheddu\n",
    "\n",
    "*Matricola:* 800428\n"
   ]
  },
  {
   "cell_type": "markdown",
   "metadata": {},
   "source": [
    "**Setup dell'ambiente**\n",
    "\n",
    "Importazione di tutte le librerie utili al funzionamento del programma e settaggio dei path in cui sono presenti i dati in modo da essere facilmente cambiabili all'inizio del programma."
   ]
  },
  {
   "cell_type": "code",
   "execution_count": 1,
   "metadata": {},
   "outputs": [],
   "source": [
    "import pandas as pd\n",
    "import datetime\n",
    "import numpy as np"
   ]
  },
  {
   "cell_type": "code",
   "execution_count": 2,
   "metadata": {},
   "outputs": [],
   "source": [
    "loans_path = r\"/home/christian/Scrivania/progetti/cs_project/dataset/loans.csv\"\n",
    "loans_lenders_path = r\"/home/christian/Scrivania/progetti/cs_project/dataset/loans_lenders.csv\"\n",
    "lenders_path = r\"/home/christian/Scrivania/progetti/cs_project/dataset/lenders.csv\"\n",
    "country_stats_path = r\"/home/christian/Scrivania/progetti/cs_project/dataset/country_stats.csv\" "
   ]
  },
  {
   "cell_type": "markdown",
   "metadata": {},
   "source": [
    "**1) Normalize the loan_lenders table. In the normalized table, each row must have one loan_id and one lender.**\n",
    "\n",
    "Per questo compito mi occupo di importare il file loans_lenders, di analizzarne la struttura e successivamente decidere come procedere."
   ]
  },
  {
   "cell_type": "code",
   "execution_count": 3,
   "metadata": {},
   "outputs": [],
   "source": [
    "loans_lenders = pd.read_csv(loans_lenders_path)"
   ]
  },
  {
   "cell_type": "code",
   "execution_count": 4,
   "metadata": {},
   "outputs": [
    {
     "data": {
      "text/html": [
       "<div>\n",
       "<style scoped>\n",
       "    .dataframe tbody tr th:only-of-type {\n",
       "        vertical-align: middle;\n",
       "    }\n",
       "\n",
       "    .dataframe tbody tr th {\n",
       "        vertical-align: top;\n",
       "    }\n",
       "\n",
       "    .dataframe thead th {\n",
       "        text-align: right;\n",
       "    }\n",
       "</style>\n",
       "<table border=\"1\" class=\"dataframe\">\n",
       "  <thead>\n",
       "    <tr style=\"text-align: right;\">\n",
       "      <th></th>\n",
       "      <th>loan_id</th>\n",
       "      <th>lenders</th>\n",
       "    </tr>\n",
       "  </thead>\n",
       "  <tbody>\n",
       "    <tr>\n",
       "      <td>0</td>\n",
       "      <td>483693</td>\n",
       "      <td>muc888, sam4326, camaran3922, lachheb1865, reb...</td>\n",
       "    </tr>\n",
       "    <tr>\n",
       "      <td>1</td>\n",
       "      <td>483738</td>\n",
       "      <td>muc888, nora3555, williammanashi, barbara5610,...</td>\n",
       "    </tr>\n",
       "    <tr>\n",
       "      <td>2</td>\n",
       "      <td>485000</td>\n",
       "      <td>muc888, terrystl, richardandsusan8352, sherri4...</td>\n",
       "    </tr>\n",
       "    <tr>\n",
       "      <td>3</td>\n",
       "      <td>486087</td>\n",
       "      <td>muc888, james5068, rudi5955, daniel9859, don92...</td>\n",
       "    </tr>\n",
       "    <tr>\n",
       "      <td>4</td>\n",
       "      <td>534428</td>\n",
       "      <td>muc888, niki3008, teresa9174, mike4896, david7...</td>\n",
       "    </tr>\n",
       "  </tbody>\n",
       "</table>\n",
       "</div>"
      ],
      "text/plain": [
       "   loan_id                                            lenders\n",
       "0   483693  muc888, sam4326, camaran3922, lachheb1865, reb...\n",
       "1   483738  muc888, nora3555, williammanashi, barbara5610,...\n",
       "2   485000  muc888, terrystl, richardandsusan8352, sherri4...\n",
       "3   486087  muc888, james5068, rudi5955, daniel9859, don92...\n",
       "4   534428  muc888, niki3008, teresa9174, mike4896, david7..."
      ]
     },
     "execution_count": 4,
     "metadata": {},
     "output_type": "execute_result"
    }
   ],
   "source": [
    "loans_lenders.head()"
   ]
  },
  {
   "cell_type": "markdown",
   "metadata": {},
   "source": [
    "Vedendo la struttura del dataframe, la normalizzazione della tabella consiste nel separare gli elementi presenti nella colonna lenders in modo che il dataframe sia formato da celle in cui è presente solo una istanza. Per farlo separo gli elementi che si trovano in corrispondenza della virgola, essendoci uno spazio vuoto dopo la virgola dovrò stare attento a considerarlo. Per ovviare a questo problema trasformo gli elementi ad ogni istanza di lenders in una lista."
   ]
  },
  {
   "cell_type": "code",
   "execution_count": 5,
   "metadata": {},
   "outputs": [],
   "source": [
    "loans_lenders['lenders'] = loans_lenders.apply(lambda row: row['lenders'].split(','), axis = 1)"
   ]
  },
  {
   "cell_type": "markdown",
   "metadata": {},
   "source": [
    "Per separare gli elementi utilizzo la funzione *explode* implementata all'interno della libreria pandas che permette di sepoarare gli elementi di una lista lungo l'asse voluto."
   ]
  },
  {
   "cell_type": "code",
   "execution_count": 6,
   "metadata": {},
   "outputs": [],
   "source": [
    "loans_lenders_norm = loans_lenders.explode('lenders')"
   ]
  },
  {
   "cell_type": "code",
   "execution_count": 7,
   "metadata": {},
   "outputs": [],
   "source": [
    "# Decommentare questa riga per vedere i risultati.\n",
    "#loans_lenders_norm.head()"
   ]
  },
  {
   "cell_type": "markdown",
   "metadata": {},
   "source": [
    "**2) For each loan, add a column duration corresponding to the number of days between the disburse time and the planned expiration time. If any of those two dates is missing, also the duration must be missing.**\n",
    "\n",
    "Come per il punto precedente procedo con una esplorazione preliminare del file in cui sono presenti gli attributi utili allo svolgimento del compito. Dopo averne fatto una prima visualizzazione degli attributi si nota che è utile passare gli attributi \"disburse_time\" e \"planned_expiration_time\" come date al momento dell'importazione."
   ]
  },
  {
   "cell_type": "code",
   "execution_count": 8,
   "metadata": {},
   "outputs": [],
   "source": [
    "loans = pd.read_csv(loans_path, parse_dates=[\"disburse_time\", \"planned_expiration_time\"])"
   ]
  },
  {
   "cell_type": "code",
   "execution_count": 9,
   "metadata": {},
   "outputs": [
    {
     "data": {
      "text/html": [
       "<div>\n",
       "<style scoped>\n",
       "    .dataframe tbody tr th:only-of-type {\n",
       "        vertical-align: middle;\n",
       "    }\n",
       "\n",
       "    .dataframe tbody tr th {\n",
       "        vertical-align: top;\n",
       "    }\n",
       "\n",
       "    .dataframe thead th {\n",
       "        text-align: right;\n",
       "    }\n",
       "</style>\n",
       "<table border=\"1\" class=\"dataframe\">\n",
       "  <thead>\n",
       "    <tr style=\"text-align: right;\">\n",
       "      <th></th>\n",
       "      <th>loan_id</th>\n",
       "      <th>loan_name</th>\n",
       "      <th>original_language</th>\n",
       "      <th>description</th>\n",
       "      <th>description_translated</th>\n",
       "      <th>funded_amount</th>\n",
       "      <th>loan_amount</th>\n",
       "      <th>status</th>\n",
       "      <th>activity_name</th>\n",
       "      <th>sector_name</th>\n",
       "      <th>...</th>\n",
       "      <th>raised_time</th>\n",
       "      <th>lender_term</th>\n",
       "      <th>num_lenders_total</th>\n",
       "      <th>num_journal_entries</th>\n",
       "      <th>num_bulk_entries</th>\n",
       "      <th>tags</th>\n",
       "      <th>borrower_genders</th>\n",
       "      <th>borrower_pictured</th>\n",
       "      <th>repayment_interval</th>\n",
       "      <th>distribution_model</th>\n",
       "    </tr>\n",
       "  </thead>\n",
       "  <tbody>\n",
       "    <tr>\n",
       "      <td>0</td>\n",
       "      <td>657307</td>\n",
       "      <td>Aivy</td>\n",
       "      <td>English</td>\n",
       "      <td>Aivy, 21 years of age, is single and lives in ...</td>\n",
       "      <td>NaN</td>\n",
       "      <td>125.0</td>\n",
       "      <td>125.0</td>\n",
       "      <td>funded</td>\n",
       "      <td>General Store</td>\n",
       "      <td>Retail</td>\n",
       "      <td>...</td>\n",
       "      <td>2014-01-15 04:48:22.000 +0000</td>\n",
       "      <td>7.0</td>\n",
       "      <td>3</td>\n",
       "      <td>2</td>\n",
       "      <td>1</td>\n",
       "      <td>NaN</td>\n",
       "      <td>female</td>\n",
       "      <td>true</td>\n",
       "      <td>irregular</td>\n",
       "      <td>field_partner</td>\n",
       "    </tr>\n",
       "    <tr>\n",
       "      <td>1</td>\n",
       "      <td>657259</td>\n",
       "      <td>Idalia Marizza</td>\n",
       "      <td>Spanish</td>\n",
       "      <td>Doña Idalia, esta casada, tiene 57 años de eda...</td>\n",
       "      <td>Idalia, 57, is married and lives with her husb...</td>\n",
       "      <td>400.0</td>\n",
       "      <td>400.0</td>\n",
       "      <td>funded</td>\n",
       "      <td>Used Clothing</td>\n",
       "      <td>Clothing</td>\n",
       "      <td>...</td>\n",
       "      <td>2014-02-25 06:42:06.000 +0000</td>\n",
       "      <td>8.0</td>\n",
       "      <td>11</td>\n",
       "      <td>2</td>\n",
       "      <td>1</td>\n",
       "      <td>NaN</td>\n",
       "      <td>female</td>\n",
       "      <td>true</td>\n",
       "      <td>monthly</td>\n",
       "      <td>field_partner</td>\n",
       "    </tr>\n",
       "    <tr>\n",
       "      <td>2</td>\n",
       "      <td>658010</td>\n",
       "      <td>Aasia</td>\n",
       "      <td>English</td>\n",
       "      <td>Aasia is a 45-year-old married lady and she ha...</td>\n",
       "      <td>NaN</td>\n",
       "      <td>400.0</td>\n",
       "      <td>400.0</td>\n",
       "      <td>funded</td>\n",
       "      <td>General Store</td>\n",
       "      <td>Retail</td>\n",
       "      <td>...</td>\n",
       "      <td>2014-01-24 23:06:18.000 +0000</td>\n",
       "      <td>14.0</td>\n",
       "      <td>16</td>\n",
       "      <td>2</td>\n",
       "      <td>1</td>\n",
       "      <td>#Woman Owned Biz, #Supporting Family, user_fav...</td>\n",
       "      <td>female</td>\n",
       "      <td>true</td>\n",
       "      <td>monthly</td>\n",
       "      <td>field_partner</td>\n",
       "    </tr>\n",
       "    <tr>\n",
       "      <td>3</td>\n",
       "      <td>659347</td>\n",
       "      <td>Gulmira</td>\n",
       "      <td>Russian</td>\n",
       "      <td>Гулмире 36 лет, замужем, вместе с супругом вос...</td>\n",
       "      <td>Gulmira is 36 years old and married.  She and ...</td>\n",
       "      <td>625.0</td>\n",
       "      <td>625.0</td>\n",
       "      <td>funded</td>\n",
       "      <td>Farming</td>\n",
       "      <td>Agriculture</td>\n",
       "      <td>...</td>\n",
       "      <td>2014-01-22 05:29:28.000 +0000</td>\n",
       "      <td>14.0</td>\n",
       "      <td>21</td>\n",
       "      <td>2</td>\n",
       "      <td>1</td>\n",
       "      <td>user_favorite</td>\n",
       "      <td>female</td>\n",
       "      <td>true</td>\n",
       "      <td>monthly</td>\n",
       "      <td>field_partner</td>\n",
       "    </tr>\n",
       "    <tr>\n",
       "      <td>4</td>\n",
       "      <td>656933</td>\n",
       "      <td>Ricky\\t</td>\n",
       "      <td>English</td>\n",
       "      <td>Ricky is a farmer who currently cultivates his...</td>\n",
       "      <td>NaN</td>\n",
       "      <td>425.0</td>\n",
       "      <td>425.0</td>\n",
       "      <td>funded</td>\n",
       "      <td>Farming</td>\n",
       "      <td>Agriculture</td>\n",
       "      <td>...</td>\n",
       "      <td>2014-01-14 17:29:27.000 +0000</td>\n",
       "      <td>7.0</td>\n",
       "      <td>15</td>\n",
       "      <td>2</td>\n",
       "      <td>1</td>\n",
       "      <td>#Animals, #Eco-friendly, #Sustainable Ag</td>\n",
       "      <td>male</td>\n",
       "      <td>true</td>\n",
       "      <td>bullet</td>\n",
       "      <td>field_partner</td>\n",
       "    </tr>\n",
       "  </tbody>\n",
       "</table>\n",
       "<p>5 rows × 31 columns</p>\n",
       "</div>"
      ],
      "text/plain": [
       "   loan_id       loan_name original_language  \\\n",
       "0   657307            Aivy           English   \n",
       "1   657259  Idalia Marizza           Spanish   \n",
       "2   658010           Aasia           English   \n",
       "3   659347         Gulmira           Russian   \n",
       "4   656933         Ricky\\t           English   \n",
       "\n",
       "                                         description  \\\n",
       "0  Aivy, 21 years of age, is single and lives in ...   \n",
       "1  Doña Idalia, esta casada, tiene 57 años de eda...   \n",
       "2  Aasia is a 45-year-old married lady and she ha...   \n",
       "3  Гулмире 36 лет, замужем, вместе с супругом вос...   \n",
       "4  Ricky is a farmer who currently cultivates his...   \n",
       "\n",
       "                              description_translated  funded_amount  \\\n",
       "0                                                NaN          125.0   \n",
       "1  Idalia, 57, is married and lives with her husb...          400.0   \n",
       "2                                                NaN          400.0   \n",
       "3  Gulmira is 36 years old and married.  She and ...          625.0   \n",
       "4                                                NaN          425.0   \n",
       "\n",
       "   loan_amount  status  activity_name  sector_name  ...  \\\n",
       "0        125.0  funded  General Store       Retail  ...   \n",
       "1        400.0  funded  Used Clothing     Clothing  ...   \n",
       "2        400.0  funded  General Store       Retail  ...   \n",
       "3        625.0  funded        Farming  Agriculture  ...   \n",
       "4        425.0  funded        Farming  Agriculture  ...   \n",
       "\n",
       "                     raised_time lender_term num_lenders_total  \\\n",
       "0  2014-01-15 04:48:22.000 +0000         7.0                 3   \n",
       "1  2014-02-25 06:42:06.000 +0000         8.0                11   \n",
       "2  2014-01-24 23:06:18.000 +0000        14.0                16   \n",
       "3  2014-01-22 05:29:28.000 +0000        14.0                21   \n",
       "4  2014-01-14 17:29:27.000 +0000         7.0                15   \n",
       "\n",
       "  num_journal_entries num_bulk_entries  \\\n",
       "0                   2                1   \n",
       "1                   2                1   \n",
       "2                   2                1   \n",
       "3                   2                1   \n",
       "4                   2                1   \n",
       "\n",
       "                                                tags borrower_genders  \\\n",
       "0                                                NaN           female   \n",
       "1                                                NaN           female   \n",
       "2  #Woman Owned Biz, #Supporting Family, user_fav...           female   \n",
       "3                                      user_favorite           female   \n",
       "4           #Animals, #Eco-friendly, #Sustainable Ag             male   \n",
       "\n",
       "   borrower_pictured repayment_interval distribution_model  \n",
       "0               true          irregular      field_partner  \n",
       "1               true            monthly      field_partner  \n",
       "2               true            monthly      field_partner  \n",
       "3               true            monthly      field_partner  \n",
       "4               true             bullet      field_partner  \n",
       "\n",
       "[5 rows x 31 columns]"
      ]
     },
     "execution_count": 9,
     "metadata": {},
     "output_type": "execute_result"
    }
   ],
   "source": [
    "loans.head()"
   ]
  },
  {
   "cell_type": "code",
   "execution_count": 10,
   "metadata": {},
   "outputs": [],
   "source": [
    "loans[\"duration\"] = loans[\"planned_expiration_time\"] - loans[\"disburse_time\"]"
   ]
  },
  {
   "cell_type": "markdown",
   "metadata": {},
   "source": [
    "Controllo per sicurezza quanti sono gli attributi nulli una volta fatta la differenza. In particolare è un numero abbastanza grosso, bisognerebbe quindi occuparsi di riempire i missing values."
   ]
  },
  {
   "cell_type": "code",
   "execution_count": 11,
   "metadata": {},
   "outputs": [
    {
     "data": {
      "text/html": [
       "<div>\n",
       "<style scoped>\n",
       "    .dataframe tbody tr th:only-of-type {\n",
       "        vertical-align: middle;\n",
       "    }\n",
       "\n",
       "    .dataframe tbody tr th {\n",
       "        vertical-align: top;\n",
       "    }\n",
       "\n",
       "    .dataframe thead th {\n",
       "        text-align: right;\n",
       "    }\n",
       "</style>\n",
       "<table border=\"1\" class=\"dataframe\">\n",
       "  <thead>\n",
       "    <tr style=\"text-align: right;\">\n",
       "      <th></th>\n",
       "      <th>loan_id</th>\n",
       "      <th>loan_name</th>\n",
       "      <th>original_language</th>\n",
       "      <th>description</th>\n",
       "      <th>description_translated</th>\n",
       "      <th>funded_amount</th>\n",
       "      <th>loan_amount</th>\n",
       "      <th>status</th>\n",
       "      <th>activity_name</th>\n",
       "      <th>sector_name</th>\n",
       "      <th>...</th>\n",
       "      <th>lender_term</th>\n",
       "      <th>num_lenders_total</th>\n",
       "      <th>num_journal_entries</th>\n",
       "      <th>num_bulk_entries</th>\n",
       "      <th>tags</th>\n",
       "      <th>borrower_genders</th>\n",
       "      <th>borrower_pictured</th>\n",
       "      <th>repayment_interval</th>\n",
       "      <th>distribution_model</th>\n",
       "      <th>duration</th>\n",
       "    </tr>\n",
       "  </thead>\n",
       "  <tbody>\n",
       "    <tr>\n",
       "      <td>64</td>\n",
       "      <td>251406</td>\n",
       "      <td>José Roan Group</td>\n",
       "      <td>Spanish</td>\n",
       "      <td>El grupo se llama “José Roan”  y se ubica en l...</td>\n",
       "      <td>The group called “José Roan” is located in the...</td>\n",
       "      <td>825.0</td>\n",
       "      <td>825.0</td>\n",
       "      <td>funded</td>\n",
       "      <td>Poultry</td>\n",
       "      <td>Agriculture</td>\n",
       "      <td>...</td>\n",
       "      <td>7.0</td>\n",
       "      <td>22</td>\n",
       "      <td>2</td>\n",
       "      <td>1</td>\n",
       "      <td>NaN</td>\n",
       "      <td>female, female, female</td>\n",
       "      <td>true, true, true</td>\n",
       "      <td>monthly</td>\n",
       "      <td>field_partner</td>\n",
       "      <td>NaT</td>\n",
       "    </tr>\n",
       "    <tr>\n",
       "      <td>65</td>\n",
       "      <td>252537</td>\n",
       "      <td>Marylou</td>\n",
       "      <td>English</td>\n",
       "      <td>Marylou S. is from the village of Kuguita, Mam...</td>\n",
       "      <td>NaN</td>\n",
       "      <td>175.0</td>\n",
       "      <td>175.0</td>\n",
       "      <td>funded</td>\n",
       "      <td>Personal Products Sales</td>\n",
       "      <td>Retail</td>\n",
       "      <td>...</td>\n",
       "      <td>7.0</td>\n",
       "      <td>7</td>\n",
       "      <td>2</td>\n",
       "      <td>1</td>\n",
       "      <td>NaN</td>\n",
       "      <td>female</td>\n",
       "      <td>true</td>\n",
       "      <td>irregular</td>\n",
       "      <td>field_partner</td>\n",
       "      <td>NaT</td>\n",
       "    </tr>\n",
       "    <tr>\n",
       "      <td>66</td>\n",
       "      <td>253044</td>\n",
       "      <td>Flora</td>\n",
       "      <td>English</td>\n",
       "      <td>Flora G. is from the village of Libona, Bukidn...</td>\n",
       "      <td>NaN</td>\n",
       "      <td>125.0</td>\n",
       "      <td>125.0</td>\n",
       "      <td>funded</td>\n",
       "      <td>Transportation</td>\n",
       "      <td>Transportation</td>\n",
       "      <td>...</td>\n",
       "      <td>7.0</td>\n",
       "      <td>5</td>\n",
       "      <td>2</td>\n",
       "      <td>1</td>\n",
       "      <td>NaN</td>\n",
       "      <td>female</td>\n",
       "      <td>true</td>\n",
       "      <td>irregular</td>\n",
       "      <td>field_partner</td>\n",
       "      <td>NaT</td>\n",
       "    </tr>\n",
       "    <tr>\n",
       "      <td>67</td>\n",
       "      <td>254012</td>\n",
       "      <td>Maria Magdalena</td>\n",
       "      <td>Spanish</td>\n",
       "      <td>María de 55 años, tiene una tienda de víveres ...</td>\n",
       "      <td>María, 55, has a grocery store in the front pa...</td>\n",
       "      <td>1000.0</td>\n",
       "      <td>1000.0</td>\n",
       "      <td>funded</td>\n",
       "      <td>General Store</td>\n",
       "      <td>Retail</td>\n",
       "      <td>...</td>\n",
       "      <td>12.0</td>\n",
       "      <td>36</td>\n",
       "      <td>1</td>\n",
       "      <td>1</td>\n",
       "      <td>NaN</td>\n",
       "      <td>female</td>\n",
       "      <td>true</td>\n",
       "      <td>monthly</td>\n",
       "      <td>field_partner</td>\n",
       "      <td>NaT</td>\n",
       "    </tr>\n",
       "    <tr>\n",
       "      <td>69</td>\n",
       "      <td>251336</td>\n",
       "      <td>Rober</td>\n",
       "      <td>Spanish</td>\n",
       "      <td>Rober, de 32 años, está casado con Janeth, de ...</td>\n",
       "      <td>Rober, 32, is married to Janeth, 31, and they ...</td>\n",
       "      <td>375.0</td>\n",
       "      <td>375.0</td>\n",
       "      <td>funded</td>\n",
       "      <td>Knitting</td>\n",
       "      <td>Arts</td>\n",
       "      <td>...</td>\n",
       "      <td>12.0</td>\n",
       "      <td>15</td>\n",
       "      <td>3</td>\n",
       "      <td>2</td>\n",
       "      <td>NaN</td>\n",
       "      <td>male</td>\n",
       "      <td>true</td>\n",
       "      <td>monthly</td>\n",
       "      <td>field_partner</td>\n",
       "      <td>NaT</td>\n",
       "    </tr>\n",
       "    <tr>\n",
       "      <td>...</td>\n",
       "      <td>...</td>\n",
       "      <td>...</td>\n",
       "      <td>...</td>\n",
       "      <td>...</td>\n",
       "      <td>...</td>\n",
       "      <td>...</td>\n",
       "      <td>...</td>\n",
       "      <td>...</td>\n",
       "      <td>...</td>\n",
       "      <td>...</td>\n",
       "      <td>...</td>\n",
       "      <td>...</td>\n",
       "      <td>...</td>\n",
       "      <td>...</td>\n",
       "      <td>...</td>\n",
       "      <td>...</td>\n",
       "      <td>...</td>\n",
       "      <td>...</td>\n",
       "      <td>...</td>\n",
       "      <td>...</td>\n",
       "      <td>...</td>\n",
       "    </tr>\n",
       "    <tr>\n",
       "      <td>1419523</td>\n",
       "      <td>288</td>\n",
       "      <td>Grace Ngima</td>\n",
       "      <td>English</td>\n",
       "      <td>&lt;i&gt;This business is a member of Naretoi Women ...</td>\n",
       "      <td>NaN</td>\n",
       "      <td>1200.0</td>\n",
       "      <td>1200.0</td>\n",
       "      <td>funded</td>\n",
       "      <td>Cattle</td>\n",
       "      <td>Agriculture</td>\n",
       "      <td>...</td>\n",
       "      <td>12.0</td>\n",
       "      <td>19</td>\n",
       "      <td>2</td>\n",
       "      <td>1</td>\n",
       "      <td>NaN</td>\n",
       "      <td>female</td>\n",
       "      <td>true</td>\n",
       "      <td>bullet</td>\n",
       "      <td>field_partner</td>\n",
       "      <td>NaT</td>\n",
       "    </tr>\n",
       "    <tr>\n",
       "      <td>1419524</td>\n",
       "      <td>1227124</td>\n",
       "      <td>Donna &amp; Brighton</td>\n",
       "      <td>English</td>\n",
       "      <td>In 1979, I graduated from the University of Wy...</td>\n",
       "      <td>In 1979, I graduated from the University of Wy...</td>\n",
       "      <td>800.0</td>\n",
       "      <td>10000.0</td>\n",
       "      <td>expired</td>\n",
       "      <td>Retail</td>\n",
       "      <td>Retail</td>\n",
       "      <td>...</td>\n",
       "      <td>36.0</td>\n",
       "      <td>9</td>\n",
       "      <td>1</td>\n",
       "      <td>1</td>\n",
       "      <td>NaN</td>\n",
       "      <td>female</td>\n",
       "      <td>true</td>\n",
       "      <td>bullet</td>\n",
       "      <td>direct</td>\n",
       "      <td>NaT</td>\n",
       "    </tr>\n",
       "    <tr>\n",
       "      <td>1419525</td>\n",
       "      <td>1089430</td>\n",
       "      <td>NaN</td>\n",
       "      <td>NaN</td>\n",
       "      <td>NaN</td>\n",
       "      <td>NaN</td>\n",
       "      <td>125.0</td>\n",
       "      <td>225.0</td>\n",
       "      <td>refunded</td>\n",
       "      <td>Grocery Store</td>\n",
       "      <td>Food</td>\n",
       "      <td>...</td>\n",
       "      <td>6.0</td>\n",
       "      <td>3</td>\n",
       "      <td>1</td>\n",
       "      <td>1</td>\n",
       "      <td>NaN</td>\n",
       "      <td>NaN</td>\n",
       "      <td>NaN</td>\n",
       "      <td>bullet</td>\n",
       "      <td>direct</td>\n",
       "      <td>NaT</td>\n",
       "    </tr>\n",
       "    <tr>\n",
       "      <td>1419538</td>\n",
       "      <td>1235452</td>\n",
       "      <td>Tara</td>\n",
       "      <td>English</td>\n",
       "      <td>Currently homeless.\\r\\nComplete alchemist.\\r\\n...</td>\n",
       "      <td>Currently homeless.\\r\\nComplete alchemist.\\r\\n...</td>\n",
       "      <td>600.0</td>\n",
       "      <td>3000.0</td>\n",
       "      <td>expired</td>\n",
       "      <td>Technology</td>\n",
       "      <td>Services</td>\n",
       "      <td>...</td>\n",
       "      <td>24.0</td>\n",
       "      <td>3</td>\n",
       "      <td>1</td>\n",
       "      <td>1</td>\n",
       "      <td>NaN</td>\n",
       "      <td>female</td>\n",
       "      <td>true</td>\n",
       "      <td>bullet</td>\n",
       "      <td>direct</td>\n",
       "      <td>NaT</td>\n",
       "    </tr>\n",
       "    <tr>\n",
       "      <td>1419564</td>\n",
       "      <td>1151269</td>\n",
       "      <td>Russell</td>\n",
       "      <td>English</td>\n",
       "      <td>Russell Pinto came to the U.S. at the age of 2...</td>\n",
       "      <td>Russell Pinto came to the U.S. at the age of 2...</td>\n",
       "      <td>50.0</td>\n",
       "      <td>8750.0</td>\n",
       "      <td>expired</td>\n",
       "      <td>Food Production/Sales</td>\n",
       "      <td>Food</td>\n",
       "      <td>...</td>\n",
       "      <td>36.0</td>\n",
       "      <td>2</td>\n",
       "      <td>1</td>\n",
       "      <td>1</td>\n",
       "      <td>NaN</td>\n",
       "      <td>male</td>\n",
       "      <td>true</td>\n",
       "      <td>bullet</td>\n",
       "      <td>direct</td>\n",
       "      <td>NaT</td>\n",
       "    </tr>\n",
       "  </tbody>\n",
       "</table>\n",
       "<p>374645 rows × 32 columns</p>\n",
       "</div>"
      ],
      "text/plain": [
       "         loan_id         loan_name original_language  \\\n",
       "64        251406   José Roan Group           Spanish   \n",
       "65        252537           Marylou           English   \n",
       "66        253044             Flora           English   \n",
       "67        254012   Maria Magdalena           Spanish   \n",
       "69        251336             Rober           Spanish   \n",
       "...          ...               ...               ...   \n",
       "1419523      288       Grace Ngima           English   \n",
       "1419524  1227124  Donna & Brighton           English   \n",
       "1419525  1089430               NaN               NaN   \n",
       "1419538  1235452              Tara           English   \n",
       "1419564  1151269           Russell           English   \n",
       "\n",
       "                                               description  \\\n",
       "64       El grupo se llama “José Roan”  y se ubica en l...   \n",
       "65       Marylou S. is from the village of Kuguita, Mam...   \n",
       "66       Flora G. is from the village of Libona, Bukidn...   \n",
       "67       María de 55 años, tiene una tienda de víveres ...   \n",
       "69       Rober, de 32 años, está casado con Janeth, de ...   \n",
       "...                                                    ...   \n",
       "1419523  <i>This business is a member of Naretoi Women ...   \n",
       "1419524  In 1979, I graduated from the University of Wy...   \n",
       "1419525                                                NaN   \n",
       "1419538  Currently homeless.\\r\\nComplete alchemist.\\r\\n...   \n",
       "1419564  Russell Pinto came to the U.S. at the age of 2...   \n",
       "\n",
       "                                    description_translated  funded_amount  \\\n",
       "64       The group called “José Roan” is located in the...          825.0   \n",
       "65                                                     NaN          175.0   \n",
       "66                                                     NaN          125.0   \n",
       "67       María, 55, has a grocery store in the front pa...         1000.0   \n",
       "69       Rober, 32, is married to Janeth, 31, and they ...          375.0   \n",
       "...                                                    ...            ...   \n",
       "1419523                                                NaN         1200.0   \n",
       "1419524  In 1979, I graduated from the University of Wy...          800.0   \n",
       "1419525                                                NaN          125.0   \n",
       "1419538  Currently homeless.\\r\\nComplete alchemist.\\r\\n...          600.0   \n",
       "1419564  Russell Pinto came to the U.S. at the age of 2...           50.0   \n",
       "\n",
       "         loan_amount    status            activity_name     sector_name  ...  \\\n",
       "64             825.0    funded                  Poultry     Agriculture  ...   \n",
       "65             175.0    funded  Personal Products Sales          Retail  ...   \n",
       "66             125.0    funded           Transportation  Transportation  ...   \n",
       "67            1000.0    funded            General Store          Retail  ...   \n",
       "69             375.0    funded                 Knitting            Arts  ...   \n",
       "...              ...       ...                      ...             ...  ...   \n",
       "1419523       1200.0    funded                   Cattle     Agriculture  ...   \n",
       "1419524      10000.0   expired                   Retail          Retail  ...   \n",
       "1419525        225.0  refunded            Grocery Store            Food  ...   \n",
       "1419538       3000.0   expired               Technology        Services  ...   \n",
       "1419564       8750.0   expired    Food Production/Sales            Food  ...   \n",
       "\n",
       "        lender_term num_lenders_total num_journal_entries num_bulk_entries  \\\n",
       "64              7.0                22                   2                1   \n",
       "65              7.0                 7                   2                1   \n",
       "66              7.0                 5                   2                1   \n",
       "67             12.0                36                   1                1   \n",
       "69             12.0                15                   3                2   \n",
       "...             ...               ...                 ...              ...   \n",
       "1419523        12.0                19                   2                1   \n",
       "1419524        36.0                 9                   1                1   \n",
       "1419525         6.0                 3                   1                1   \n",
       "1419538        24.0                 3                   1                1   \n",
       "1419564        36.0                 2                   1                1   \n",
       "\n",
       "        tags        borrower_genders borrower_pictured  repayment_interval  \\\n",
       "64       NaN  female, female, female  true, true, true             monthly   \n",
       "65       NaN                  female              true           irregular   \n",
       "66       NaN                  female              true           irregular   \n",
       "67       NaN                  female              true             monthly   \n",
       "69       NaN                    male              true             monthly   \n",
       "...      ...                     ...               ...                 ...   \n",
       "1419523  NaN                  female              true              bullet   \n",
       "1419524  NaN                  female              true              bullet   \n",
       "1419525  NaN                     NaN               NaN              bullet   \n",
       "1419538  NaN                  female              true              bullet   \n",
       "1419564  NaN                    male              true              bullet   \n",
       "\n",
       "        distribution_model duration  \n",
       "64           field_partner      NaT  \n",
       "65           field_partner      NaT  \n",
       "66           field_partner      NaT  \n",
       "67           field_partner      NaT  \n",
       "69           field_partner      NaT  \n",
       "...                    ...      ...  \n",
       "1419523      field_partner      NaT  \n",
       "1419524             direct      NaT  \n",
       "1419525             direct      NaT  \n",
       "1419538             direct      NaT  \n",
       "1419564             direct      NaT  \n",
       "\n",
       "[374645 rows x 32 columns]"
      ]
     },
     "execution_count": 11,
     "metadata": {},
     "output_type": "execute_result"
    }
   ],
   "source": [
    "loans.loc[loans['duration'].isnull() == True]"
   ]
  },
  {
   "cell_type": "markdown",
   "metadata": {},
   "source": [
    "**3) Find the lenders that have funded at least twice.**\n",
    "\n",
    "Per fare questa cosa ho gli attributi già pronti. Per prima cosa bisogna effettuare un merge tra loans_lenders_norm e loans_ per sapere se tutte le istanze presenti in loans_lenders norm corrispondano allo stato \"funded\", una volta fatto questo mi occupo di tenere solo le righe in cui lo stato è funded e di selezionare solo quelle con un conteggio maggiore di o uguale a 2. Per non sovraccaricare troppo la RAM utilizzo per il merge solo gli attributi che mi serviranno per le computazioni."
   ]
  },
  {
   "cell_type": "code",
   "execution_count": 12,
   "metadata": {},
   "outputs": [],
   "source": [
    "loans_lenders_merged = pd.merge(loans_lenders_norm, loans[[\"loan_id\", \"status\"]], on=\"loan_id\", how=\"left\")"
   ]
  },
  {
   "cell_type": "code",
   "execution_count": 13,
   "metadata": {},
   "outputs": [],
   "source": [
    "loans_lenders_merged_funded = loans_lenders_merged[loans_lenders_merged[\"status\"] == \"funded\"]"
   ]
  },
  {
   "cell_type": "code",
   "execution_count": 14,
   "metadata": {},
   "outputs": [
    {
     "data": {
      "text/plain": [
       "lenders\n",
       " 000               39\n",
       " 00000             38\n",
       " 0002              70\n",
       " 0101craign0101    71\n",
       " 0132575            4\n",
       "                   ..\n",
       "zyrah8525           4\n",
       "zyrorl              3\n",
       "zzaman              9\n",
       "zzanita             2\n",
       "zzmcfate           54\n",
       "Name: loan_id, Length: 993782, dtype: int64"
      ]
     },
     "execution_count": 14,
     "metadata": {},
     "output_type": "execute_result"
    }
   ],
   "source": [
    "num_loan = loans_lenders_merged_funded.groupby('lenders').count()['loan_id']\n",
    "num_loan.loc[num_loan >= 2]"
   ]
  },
  {
   "cell_type": "markdown",
   "metadata": {},
   "source": [
    "**4) For each country, compute how many loans have involved that country as borrowers.**\n",
    "\n",
    "Durante l'esecuzione di questo punto nasce la problematica causata dal gran numero di NaN presenti nell'attributo duration notato durante l'esecuzione del punto 2. Per effettuare un calcolo corretto bisogna quindi mettere delle condizioni, in particolare creo un nuovo dataframe che contenga le righe di loans con le seguenti caratteristiche:\n",
    "\n",
    "- Non hanno valori null in \"duration\".\n",
    "- Per quanto riguarda i valori in \"planned_expiration_time\" che siano minori di \"disburse_time\" li scambio  (**DA FARE**). "
   ]
  },
  {
   "cell_type": "code",
   "execution_count": 15,
   "metadata": {},
   "outputs": [],
   "source": [
    "loans_not_null = loans[loans[\"duration\"].isnull() == False]\n",
    "loans_not_null = loans_not_null[loans_not_null[\"planned_expiration_time\"] > loans_not_null[\"disburse_time\"]]"
   ]
  },
  {
   "cell_type": "markdown",
   "metadata": {},
   "source": [
    "Ora mi occuppo di raggruppare per country e di contare solo quelli corretti."
   ]
  },
  {
   "cell_type": "code",
   "execution_count": 16,
   "metadata": {},
   "outputs": [],
   "source": [
    "num_loans_country = loans_not_null.groupby('country_name').count()['loan_id']"
   ]
  },
  {
   "cell_type": "code",
   "execution_count": 17,
   "metadata": {},
   "outputs": [],
   "source": [
    "#Decommentare questa riga per la visualizzazione dei risultati.\n",
    "#num_loans_country"
   ]
  },
  {
   "cell_type": "markdown",
   "metadata": {},
   "source": [
    "**5) For each country, compute the overall amount of money borrowed.** \n",
    "\n",
    "Per farlo è gia a disposizione il dataset sistemato, bisogna solo raggruppare e sommare per paese."
   ]
  },
  {
   "cell_type": "code",
   "execution_count": 45,
   "metadata": {},
   "outputs": [
    {
     "data": {
      "text/html": [
       "<div>\n",
       "<style scoped>\n",
       "    .dataframe tbody tr th:only-of-type {\n",
       "        vertical-align: middle;\n",
       "    }\n",
       "\n",
       "    .dataframe tbody tr th {\n",
       "        vertical-align: top;\n",
       "    }\n",
       "\n",
       "    .dataframe thead th {\n",
       "        text-align: right;\n",
       "    }\n",
       "</style>\n",
       "<table border=\"1\" class=\"dataframe\">\n",
       "  <thead>\n",
       "    <tr style=\"text-align: right;\">\n",
       "      <th></th>\n",
       "      <th>country_name</th>\n",
       "      <th>borrowed_amount</th>\n",
       "    </tr>\n",
       "  </thead>\n",
       "  <tbody>\n",
       "    <tr>\n",
       "      <td>0</td>\n",
       "      <td>Afghanistan</td>\n",
       "      <td>6000.0</td>\n",
       "    </tr>\n",
       "    <tr>\n",
       "      <td>1</td>\n",
       "      <td>Albania</td>\n",
       "      <td>4307350.0</td>\n",
       "    </tr>\n",
       "    <tr>\n",
       "      <td>2</td>\n",
       "      <td>Armenia</td>\n",
       "      <td>20579275.0</td>\n",
       "    </tr>\n",
       "    <tr>\n",
       "      <td>3</td>\n",
       "      <td>Azerbaijan</td>\n",
       "      <td>6839400.0</td>\n",
       "    </tr>\n",
       "    <tr>\n",
       "      <td>4</td>\n",
       "      <td>Belize</td>\n",
       "      <td>65450.0</td>\n",
       "    </tr>\n",
       "    <tr>\n",
       "      <td>...</td>\n",
       "      <td>...</td>\n",
       "      <td>...</td>\n",
       "    </tr>\n",
       "    <tr>\n",
       "      <td>79</td>\n",
       "      <td>Vanuatu</td>\n",
       "      <td>9250.0</td>\n",
       "    </tr>\n",
       "    <tr>\n",
       "      <td>80</td>\n",
       "      <td>Vietnam</td>\n",
       "      <td>19907200.0</td>\n",
       "    </tr>\n",
       "    <tr>\n",
       "      <td>81</td>\n",
       "      <td>Yemen</td>\n",
       "      <td>3430100.0</td>\n",
       "    </tr>\n",
       "    <tr>\n",
       "      <td>82</td>\n",
       "      <td>Zambia</td>\n",
       "      <td>1658200.0</td>\n",
       "    </tr>\n",
       "    <tr>\n",
       "      <td>83</td>\n",
       "      <td>Zimbabwe</td>\n",
       "      <td>4838325.0</td>\n",
       "    </tr>\n",
       "  </tbody>\n",
       "</table>\n",
       "<p>84 rows × 2 columns</p>\n",
       "</div>"
      ],
      "text/plain": [
       "   country_name  borrowed_amount\n",
       "0   Afghanistan           6000.0\n",
       "1       Albania        4307350.0\n",
       "2       Armenia       20579275.0\n",
       "3    Azerbaijan        6839400.0\n",
       "4        Belize          65450.0\n",
       "..          ...              ...\n",
       "79      Vanuatu           9250.0\n",
       "80      Vietnam       19907200.0\n",
       "81        Yemen        3430100.0\n",
       "82       Zambia        1658200.0\n",
       "83     Zimbabwe        4838325.0\n",
       "\n",
       "[84 rows x 2 columns]"
      ]
     },
     "execution_count": 45,
     "metadata": {},
     "output_type": "execute_result"
    }
   ],
   "source": [
    "loans_not_null.groupby('country_name')['loan_amount'].sum().reset_index().rename(columns={\"loan_amount\" : \"borrowed_amount\"})"
   ]
  },
  {
   "cell_type": "markdown",
   "metadata": {},
   "source": [
    "**6) Like the previous point, but expressed as a percentage of the overall amount lent.**\n",
    "\n",
    "Allo stesso modo del punto precedente, basta stare attenti a fare il conto giusto."
   ]
  },
  {
   "cell_type": "code",
   "execution_count": 19,
   "metadata": {},
   "outputs": [],
   "source": [
    "overall_amount_lent = loans_not_null['loan_amount'].sum()\n",
    "loans_country = pd.DataFrame(loans_not_null.groupby('country_name')['loan_amount'].sum())\n",
    "loans_country['percentage'] = round(loans_country['loan_amount'] / overall_amount_lent * 100, 2)"
   ]
  },
  {
   "cell_type": "code",
   "execution_count": 20,
   "metadata": {},
   "outputs": [],
   "source": [
    "#Decommentare questa riga per vedere i risultati.\n",
    "#loans_country"
   ]
  },
  {
   "cell_type": "markdown",
   "metadata": {},
   "source": [
    "Eseguo la somma per vedere che il risultato è unitario, ciò è vero a meno di approssimazioni che sono state svolte durante i conteggi:"
   ]
  },
  {
   "cell_type": "code",
   "execution_count": 21,
   "metadata": {},
   "outputs": [
    {
     "data": {
      "text/plain": [
       "99.98"
      ]
     },
     "execution_count": 21,
     "metadata": {},
     "output_type": "execute_result"
    }
   ],
   "source": [
    "round(loans_country['percentage'].sum(),2)"
   ]
  },
  {
   "cell_type": "markdown",
   "metadata": {},
   "source": [
    "**7) Like the three previous points, but split for each year (with respect to disburse time).**\n",
    "\n",
    "Il primo passaggio è quello di riprendere il dataset creato in precedenza e settare l'attributo \"disburse_time\" come indice in modo da poterci applicare il metodo Grouper di pandas."
   ]
  },
  {
   "cell_type": "code",
   "execution_count": 22,
   "metadata": {},
   "outputs": [],
   "source": [
    "loans_not_null[\"disburse_time\"] =  pd.to_datetime(loans_not_null[\"disburse_time\"])\n",
    "loans_not_null = loans_not_null.set_index(\"disburse_time\")\n",
    "loans_by_year_sum = loans_not_null.groupby([\"country_name\", pd.Grouper(freq=\"Y\")])[\"loan_amount\"].sum().to_frame()"
   ]
  },
  {
   "cell_type": "markdown",
   "metadata": {},
   "source": [
    "Ora faccio le stesse cose fatte sopra ma calcolando la percentuale."
   ]
  },
  {
   "cell_type": "code",
   "execution_count": 23,
   "metadata": {},
   "outputs": [],
   "source": [
    "loans_by_year_perc = loans_by_year_sum\n",
    "loans_by_year_perc[\"loan_amount\"] = loans_by_year_perc[\"loan_amount\"]/overall_amount_lent*100\n",
    "loans_by_year_perc = loans_by_year_perc.rename(columns={\"loan_amount\" : \"loan_amount_perc\"})"
   ]
  },
  {
   "cell_type": "markdown",
   "metadata": {},
   "source": [
    "Faccio come sopra in modo da poter contare questa volta."
   ]
  },
  {
   "cell_type": "code",
   "execution_count": 24,
   "metadata": {},
   "outputs": [],
   "source": [
    "loans_by_year_count = loans_not_null.groupby([\"country_name\", pd.Grouper(freq=\"Y\")])[\"loan_id\"].count().to_frame()\n",
    "loans_by_year_count = loans_by_year_count.rename(columns={\"loan_id\" : \"count\"})"
   ]
  },
  {
   "cell_type": "markdown",
   "metadata": {},
   "source": [
    "Eseguo il merge tra i tre dataframe selezionando solo le colonne che non sono duplicate in modo da avere il minor spreco di memoria possibile."
   ]
  },
  {
   "cell_type": "code",
   "execution_count": 25,
   "metadata": {},
   "outputs": [],
   "source": [
    "country_statistics_by_year = pd.concat([loans_by_year_count, loans_by_year_sum, loans_by_year_perc], axis=1)\n",
    "country_statistics_by_year = country_statistics_by_year.loc[:, ~country_statistics_by_year.columns.duplicated()]"
   ]
  },
  {
   "cell_type": "code",
   "execution_count": 26,
   "metadata": {},
   "outputs": [],
   "source": [
    "#Decommentare questa riga per stampare i risultati.\n",
    "#display(country_statistics_by_year.head())"
   ]
  },
  {
   "cell_type": "markdown",
   "metadata": {},
   "source": [
    "**8) For each lender, compute the overall amount of money lent.**\n",
    "\n",
    "La prima cosa da fare è capire per ogni id il numero di lenders coinvolti, e ciò viene fatto contando il numero di persone presenti nel loan_id. L'assunzione fatta è che ogni lenders si sia occupato in egual misura di ogni loan."
   ]
  },
  {
   "cell_type": "code",
   "execution_count": 27,
   "metadata": {},
   "outputs": [],
   "source": [
    "lenders_num = loans_lenders_norm.groupby(\"loan_id\").count().reset_index().rename(columns={\"lenders\" : \"lenders_count\"})"
   ]
  },
  {
   "cell_type": "code",
   "execution_count": 28,
   "metadata": {},
   "outputs": [],
   "source": [
    "lenders_num_details = pd.merge(lenders_num, loans_not_null, on=\"loan_id\")[[\"loan_id\", \"lenders_count\", \"loan_amount\"]]"
   ]
  },
  {
   "cell_type": "code",
   "execution_count": 29,
   "metadata": {},
   "outputs": [],
   "source": [
    "lenders_num_details[\"amount_per_person\"] = lenders_num_details[\"loan_amount\"] / lenders_num_details[\"lenders_count\"]"
   ]
  },
  {
   "cell_type": "code",
   "execution_count": 30,
   "metadata": {},
   "outputs": [],
   "source": [
    "loans_lenders_merged = pd.merge(loans_lenders_norm, lenders_num_details, on=\"loan_id\", how=\"left\")"
   ]
  },
  {
   "cell_type": "code",
   "execution_count": 31,
   "metadata": {},
   "outputs": [],
   "source": [
    "lenders_overall_lent = loans_lenders_merged.groupby(\"lenders\")[\"amount_per_person\"].sum().to_frame().reset_index()"
   ]
  },
  {
   "cell_type": "code",
   "execution_count": 32,
   "metadata": {},
   "outputs": [],
   "source": [
    "#Decommentare questa riga per vedere i risultati\n",
    "#lenders_overall_lent.head()"
   ]
  },
  {
   "cell_type": "markdown",
   "metadata": {},
   "source": [
    "**9) For each country, compute the difference between the overall amount of money lent and the overall amount of money borrowed. Since the country of the lender is often unknown, you can assume that the true distribution among the countries is the same as the one computed from the rows where the country is known.**\n",
    "\n",
    "La prima cosa da fare è sistemare il dataframe in modo da averlo senza valori NaN. Una volta diviso il dataframe in queste due parti cerco di calcolare la distribuzione nel dataframe in cui tutto è conosciuto e la applico al secondo dataframe."
   ]
  },
  {
   "cell_type": "code",
   "execution_count": 33,
   "metadata": {},
   "outputs": [],
   "source": [
    "lenders = pd.read_csv(lenders_path)"
   ]
  },
  {
   "cell_type": "code",
   "execution_count": 34,
   "metadata": {},
   "outputs": [],
   "source": [
    "lenders_notnull = lenders.loc[lenders[\"country_code\"].isnull() == False].reset_index()   \n",
    "lenders_null = lenders.loc[lenders[\"country_code\"].isnull() == True].reset_index()   "
   ]
  },
  {
   "cell_type": "code",
   "execution_count": 35,
   "metadata": {},
   "outputs": [
    {
     "name": "stdout",
     "output_type": "stream",
     "text": [
      "890539\n"
     ]
    }
   ],
   "source": [
    "tot_notnull_users = len(lenders_notnull.index)\n",
    "print(tot_notnull_users)"
   ]
  },
  {
   "cell_type": "markdown",
   "metadata": {},
   "source": [
    "Calcolo la distribuzione delle nazioni nel dataframe lenders_notnull"
   ]
  },
  {
   "cell_type": "code",
   "execution_count": 36,
   "metadata": {},
   "outputs": [],
   "source": [
    "country_ripartition = lenders_notnull[[\"index\", \"country_code\"]].groupby(\"country_code\").count().reset_index().rename(columns = {\"index\":\"n_users\"})\n",
    "country_ripartition[\"percentage\"] = country_ripartition[\"n_users\"]/tot_notnull_users*100"
   ]
  },
  {
   "cell_type": "markdown",
   "metadata": {},
   "source": [
    "Ora riempio il dataframe lenders_null in modo che abbia la stessa distribuzione di lenders_notnull.\n",
    "Per fare questo uso la funzione np.random.choice (inserendo come seed '1234')\n",
    "In questo modo assegno la nazionalità in modo randomico e non sistematico (x. es. partendo dall'alto), ottenendo la distribuzione finale che voglio ottenere\n",
    "ma per fare questo devo normalizzare le percentuali dividendole per la loro somma, altrimenti otterei l'errore (probabilities do not sum to 1"
   ]
  },
  {
   "cell_type": "code",
   "execution_count": 37,
   "metadata": {},
   "outputs": [],
   "source": [
    "country_ripartition[\"percentage\"] /= country_ripartition[\"percentage\"].sum()"
   ]
  },
  {
   "cell_type": "code",
   "execution_count": 38,
   "metadata": {},
   "outputs": [],
   "source": [
    "np.random.seed(1234)\n",
    "lenders_null[\"country_code\"] = np.random.choice(country_ripartition[\"country_code\"], size=len(lenders_null.index), p = country_ripartition[\"percentage\"])"
   ]
  },
  {
   "cell_type": "code",
   "execution_count": 39,
   "metadata": {},
   "outputs": [],
   "source": [
    "lenders = pd.concat([lenders_notnull, lenders_null]).drop(columns=\"index\")"
   ]
  },
  {
   "cell_type": "markdown",
   "metadata": {},
   "source": [
    "Ora che il dataframe è sistemato con la distribuzione giusta, proseguo con la richiesta dell'esercizio.\n",
    "\n",
    "Integro i dataframe \"lenders\", il quale ha i nomi dei lenders e la loro nazionalità, e il dataframe \"lenders_overall_lent\" che indica per ogni lender l'ammontare \"lent\".\n",
    "\n",
    "A quel punto raggruppo per nazionalità e effettuo una somma, ottenendo l'ammontare \"lent\" per ogni nazione.\n",
    "\n",
    "Inserisco queste info nel dataframe \"tot_lent_country\".\n"
   ]
  },
  {
   "cell_type": "code",
   "execution_count": 40,
   "metadata": {},
   "outputs": [],
   "source": [
    "tot_lent_country = pd.merge(lenders_overall_lent, lenders[[\"permanent_name\", \"country_code\"]], left_on=\"lenders\", right_on=\"permanent_name\")\n",
    "tot_lent_country = tot_lent_country.drop(columns=\"permanent_name\")\n",
    "tot_lent_country = tot_lent_country.groupby(\"country_code\")[\"amount_per_person\"].sum()\n",
    "tot_lent_country = tot_lent_country.to_frame().rename(columns={\"amount_per_person\" : \"lent_amount\"}).reset_index()"
   ]
  },
  {
   "cell_type": "code",
   "execution_count": 42,
   "metadata": {},
   "outputs": [],
   "source": [
    "#Nel dataframe \"tot_lent_country\" ho indicato il country_code, mentre nel dataframe \"tot_borr_country\" ho il nome della nazione\n",
    "#Devo \"normalizzare\" queste differenze, quindi integro tot_borr_country con \"country_stats\", in modo da avere anche lì il country code\n",
    "\n",
    "country_stats = pd.read_csv(country_stats_path)\n",
    "loans_country = pd.merge(loans_country, country_stats[[\"country_name\", \"country_code\"]], on=\"country_name\")"
   ]
  },
  {
   "cell_type": "code",
   "execution_count": 43,
   "metadata": {},
   "outputs": [
    {
     "ename": "KeyError",
     "evalue": "\"['borrowed_amount'] not in index\"",
     "output_type": "error",
     "traceback": [
      "\u001b[0;31m---------------------------------------------------------------------------\u001b[0m",
      "\u001b[0;31mKeyError\u001b[0m                                  Traceback (most recent call last)",
      "\u001b[0;32m<ipython-input-43-81da39c7fce9>\u001b[0m in \u001b[0;36m<module>\u001b[0;34m\u001b[0m\n\u001b[1;32m      3\u001b[0m \u001b[0;34m\u001b[0m\u001b[0m\n\u001b[1;32m      4\u001b[0m \u001b[0mcountry_lent_borr\u001b[0m \u001b[0;34m=\u001b[0m \u001b[0mpd\u001b[0m\u001b[0;34m.\u001b[0m\u001b[0mmerge\u001b[0m\u001b[0;34m(\u001b[0m\u001b[0mtot_lent_country\u001b[0m\u001b[0;34m,\u001b[0m \u001b[0mloans_country\u001b[0m\u001b[0;34m,\u001b[0m \u001b[0mon\u001b[0m\u001b[0;34m=\u001b[0m\u001b[0;34m\"country_code\"\u001b[0m\u001b[0;34m)\u001b[0m\u001b[0;34m\u001b[0m\u001b[0;34m\u001b[0m\u001b[0m\n\u001b[0;32m----> 5\u001b[0;31m \u001b[0mcountry_lent_borr\u001b[0m \u001b[0;34m=\u001b[0m \u001b[0mcountry_lent_borr\u001b[0m\u001b[0;34m[\u001b[0m\u001b[0;34m[\u001b[0m\u001b[0;34m\"country_name\"\u001b[0m\u001b[0;34m,\u001b[0m \u001b[0;34m\"country_code\"\u001b[0m\u001b[0;34m,\u001b[0m \u001b[0;34m\"lent_amount\"\u001b[0m\u001b[0;34m,\u001b[0m \u001b[0;34m\"borrowed_amount\"\u001b[0m\u001b[0;34m]\u001b[0m\u001b[0;34m]\u001b[0m\u001b[0;34m\u001b[0m\u001b[0;34m\u001b[0m\u001b[0m\n\u001b[0m",
      "\u001b[0;32m~/anaconda3/lib/python3.7/site-packages/pandas/core/frame.py\u001b[0m in \u001b[0;36m__getitem__\u001b[0;34m(self, key)\u001b[0m\n\u001b[1;32m   2984\u001b[0m             \u001b[0;32mif\u001b[0m \u001b[0mis_iterator\u001b[0m\u001b[0;34m(\u001b[0m\u001b[0mkey\u001b[0m\u001b[0;34m)\u001b[0m\u001b[0;34m:\u001b[0m\u001b[0;34m\u001b[0m\u001b[0;34m\u001b[0m\u001b[0m\n\u001b[1;32m   2985\u001b[0m                 \u001b[0mkey\u001b[0m \u001b[0;34m=\u001b[0m \u001b[0mlist\u001b[0m\u001b[0;34m(\u001b[0m\u001b[0mkey\u001b[0m\u001b[0;34m)\u001b[0m\u001b[0;34m\u001b[0m\u001b[0;34m\u001b[0m\u001b[0m\n\u001b[0;32m-> 2986\u001b[0;31m             \u001b[0mindexer\u001b[0m \u001b[0;34m=\u001b[0m \u001b[0mself\u001b[0m\u001b[0;34m.\u001b[0m\u001b[0mloc\u001b[0m\u001b[0;34m.\u001b[0m\u001b[0m_convert_to_indexer\u001b[0m\u001b[0;34m(\u001b[0m\u001b[0mkey\u001b[0m\u001b[0;34m,\u001b[0m \u001b[0maxis\u001b[0m\u001b[0;34m=\u001b[0m\u001b[0;36m1\u001b[0m\u001b[0;34m,\u001b[0m \u001b[0mraise_missing\u001b[0m\u001b[0;34m=\u001b[0m\u001b[0;32mTrue\u001b[0m\u001b[0;34m)\u001b[0m\u001b[0;34m\u001b[0m\u001b[0;34m\u001b[0m\u001b[0m\n\u001b[0m\u001b[1;32m   2987\u001b[0m \u001b[0;34m\u001b[0m\u001b[0m\n\u001b[1;32m   2988\u001b[0m         \u001b[0;31m# take() does not accept boolean indexers\u001b[0m\u001b[0;34m\u001b[0m\u001b[0;34m\u001b[0m\u001b[0;34m\u001b[0m\u001b[0m\n",
      "\u001b[0;32m~/anaconda3/lib/python3.7/site-packages/pandas/core/indexing.py\u001b[0m in \u001b[0;36m_convert_to_indexer\u001b[0;34m(self, obj, axis, is_setter, raise_missing)\u001b[0m\n\u001b[1;32m   1283\u001b[0m                 \u001b[0;31m# When setting, missing keys are not allowed, even with .loc:\u001b[0m\u001b[0;34m\u001b[0m\u001b[0;34m\u001b[0m\u001b[0;34m\u001b[0m\u001b[0m\n\u001b[1;32m   1284\u001b[0m                 \u001b[0mkwargs\u001b[0m \u001b[0;34m=\u001b[0m \u001b[0;34m{\u001b[0m\u001b[0;34m\"raise_missing\"\u001b[0m\u001b[0;34m:\u001b[0m \u001b[0;32mTrue\u001b[0m \u001b[0;32mif\u001b[0m \u001b[0mis_setter\u001b[0m \u001b[0;32melse\u001b[0m \u001b[0mraise_missing\u001b[0m\u001b[0;34m}\u001b[0m\u001b[0;34m\u001b[0m\u001b[0;34m\u001b[0m\u001b[0m\n\u001b[0;32m-> 1285\u001b[0;31m                 \u001b[0;32mreturn\u001b[0m \u001b[0mself\u001b[0m\u001b[0;34m.\u001b[0m\u001b[0m_get_listlike_indexer\u001b[0m\u001b[0;34m(\u001b[0m\u001b[0mobj\u001b[0m\u001b[0;34m,\u001b[0m \u001b[0maxis\u001b[0m\u001b[0;34m,\u001b[0m \u001b[0;34m**\u001b[0m\u001b[0mkwargs\u001b[0m\u001b[0;34m)\u001b[0m\u001b[0;34m[\u001b[0m\u001b[0;36m1\u001b[0m\u001b[0;34m]\u001b[0m\u001b[0;34m\u001b[0m\u001b[0;34m\u001b[0m\u001b[0m\n\u001b[0m\u001b[1;32m   1286\u001b[0m         \u001b[0;32melse\u001b[0m\u001b[0;34m:\u001b[0m\u001b[0;34m\u001b[0m\u001b[0;34m\u001b[0m\u001b[0m\n\u001b[1;32m   1287\u001b[0m             \u001b[0;32mtry\u001b[0m\u001b[0;34m:\u001b[0m\u001b[0;34m\u001b[0m\u001b[0;34m\u001b[0m\u001b[0m\n",
      "\u001b[0;32m~/anaconda3/lib/python3.7/site-packages/pandas/core/indexing.py\u001b[0m in \u001b[0;36m_get_listlike_indexer\u001b[0;34m(self, key, axis, raise_missing)\u001b[0m\n\u001b[1;32m   1090\u001b[0m \u001b[0;34m\u001b[0m\u001b[0m\n\u001b[1;32m   1091\u001b[0m         self._validate_read_indexer(\n\u001b[0;32m-> 1092\u001b[0;31m             \u001b[0mkeyarr\u001b[0m\u001b[0;34m,\u001b[0m \u001b[0mindexer\u001b[0m\u001b[0;34m,\u001b[0m \u001b[0mo\u001b[0m\u001b[0;34m.\u001b[0m\u001b[0m_get_axis_number\u001b[0m\u001b[0;34m(\u001b[0m\u001b[0maxis\u001b[0m\u001b[0;34m)\u001b[0m\u001b[0;34m,\u001b[0m \u001b[0mraise_missing\u001b[0m\u001b[0;34m=\u001b[0m\u001b[0mraise_missing\u001b[0m\u001b[0;34m\u001b[0m\u001b[0;34m\u001b[0m\u001b[0m\n\u001b[0m\u001b[1;32m   1093\u001b[0m         )\n\u001b[1;32m   1094\u001b[0m         \u001b[0;32mreturn\u001b[0m \u001b[0mkeyarr\u001b[0m\u001b[0;34m,\u001b[0m \u001b[0mindexer\u001b[0m\u001b[0;34m\u001b[0m\u001b[0;34m\u001b[0m\u001b[0m\n",
      "\u001b[0;32m~/anaconda3/lib/python3.7/site-packages/pandas/core/indexing.py\u001b[0m in \u001b[0;36m_validate_read_indexer\u001b[0;34m(self, key, indexer, axis, raise_missing)\u001b[0m\n\u001b[1;32m   1183\u001b[0m             \u001b[0;32mif\u001b[0m \u001b[0;32mnot\u001b[0m \u001b[0;34m(\u001b[0m\u001b[0mself\u001b[0m\u001b[0;34m.\u001b[0m\u001b[0mname\u001b[0m \u001b[0;34m==\u001b[0m \u001b[0;34m\"loc\"\u001b[0m \u001b[0;32mand\u001b[0m \u001b[0;32mnot\u001b[0m \u001b[0mraise_missing\u001b[0m\u001b[0;34m)\u001b[0m\u001b[0;34m:\u001b[0m\u001b[0;34m\u001b[0m\u001b[0;34m\u001b[0m\u001b[0m\n\u001b[1;32m   1184\u001b[0m                 \u001b[0mnot_found\u001b[0m \u001b[0;34m=\u001b[0m \u001b[0mlist\u001b[0m\u001b[0;34m(\u001b[0m\u001b[0mset\u001b[0m\u001b[0;34m(\u001b[0m\u001b[0mkey\u001b[0m\u001b[0;34m)\u001b[0m \u001b[0;34m-\u001b[0m \u001b[0mset\u001b[0m\u001b[0;34m(\u001b[0m\u001b[0max\u001b[0m\u001b[0;34m)\u001b[0m\u001b[0;34m)\u001b[0m\u001b[0;34m\u001b[0m\u001b[0;34m\u001b[0m\u001b[0m\n\u001b[0;32m-> 1185\u001b[0;31m                 \u001b[0;32mraise\u001b[0m \u001b[0mKeyError\u001b[0m\u001b[0;34m(\u001b[0m\u001b[0;34m\"{} not in index\"\u001b[0m\u001b[0;34m.\u001b[0m\u001b[0mformat\u001b[0m\u001b[0;34m(\u001b[0m\u001b[0mnot_found\u001b[0m\u001b[0;34m)\u001b[0m\u001b[0;34m)\u001b[0m\u001b[0;34m\u001b[0m\u001b[0;34m\u001b[0m\u001b[0m\n\u001b[0m\u001b[1;32m   1186\u001b[0m \u001b[0;34m\u001b[0m\u001b[0m\n\u001b[1;32m   1187\u001b[0m             \u001b[0;31m# we skip the warning on Categorical/Interval\u001b[0m\u001b[0;34m\u001b[0m\u001b[0;34m\u001b[0m\u001b[0;34m\u001b[0m\u001b[0m\n",
      "\u001b[0;31mKeyError\u001b[0m: \"['borrowed_amount'] not in index\""
     ]
    }
   ],
   "source": [
    "#Ora creo un df che contenga l'ammontare di denaro \"lent\" e \"borrowed\" per ogni nazione\n",
    "#Devo quindi fare una merge tra tot_lent_country e tot_borr_country\n",
    "\n",
    "country_lent_borr = pd.merge(tot_lent_country, loans_country, on=\"country_code\")\n",
    "country_lent_borr = country_lent_borr[[\"country_name\", \"country_code\", \"lent_amount\", \"borrowed_amount\"]]"
   ]
  },
  {
   "cell_type": "code",
   "execution_count": 44,
   "metadata": {},
   "outputs": [
    {
     "ename": "KeyError",
     "evalue": "'borrowed_amount'",
     "output_type": "error",
     "traceback": [
      "\u001b[0;31m---------------------------------------------------------------------------\u001b[0m",
      "\u001b[0;31mKeyError\u001b[0m                                  Traceback (most recent call last)",
      "\u001b[0;32m~/anaconda3/lib/python3.7/site-packages/pandas/core/indexes/base.py\u001b[0m in \u001b[0;36mget_loc\u001b[0;34m(self, key, method, tolerance)\u001b[0m\n\u001b[1;32m   2896\u001b[0m             \u001b[0;32mtry\u001b[0m\u001b[0;34m:\u001b[0m\u001b[0;34m\u001b[0m\u001b[0;34m\u001b[0m\u001b[0m\n\u001b[0;32m-> 2897\u001b[0;31m                 \u001b[0;32mreturn\u001b[0m \u001b[0mself\u001b[0m\u001b[0;34m.\u001b[0m\u001b[0m_engine\u001b[0m\u001b[0;34m.\u001b[0m\u001b[0mget_loc\u001b[0m\u001b[0;34m(\u001b[0m\u001b[0mkey\u001b[0m\u001b[0;34m)\u001b[0m\u001b[0;34m\u001b[0m\u001b[0;34m\u001b[0m\u001b[0m\n\u001b[0m\u001b[1;32m   2898\u001b[0m             \u001b[0;32mexcept\u001b[0m \u001b[0mKeyError\u001b[0m\u001b[0;34m:\u001b[0m\u001b[0;34m\u001b[0m\u001b[0;34m\u001b[0m\u001b[0m\n",
      "\u001b[0;32mpandas/_libs/index.pyx\u001b[0m in \u001b[0;36mpandas._libs.index.IndexEngine.get_loc\u001b[0;34m()\u001b[0m\n",
      "\u001b[0;32mpandas/_libs/index.pyx\u001b[0m in \u001b[0;36mpandas._libs.index.IndexEngine.get_loc\u001b[0;34m()\u001b[0m\n",
      "\u001b[0;32mpandas/_libs/hashtable_class_helper.pxi\u001b[0m in \u001b[0;36mpandas._libs.hashtable.PyObjectHashTable.get_item\u001b[0;34m()\u001b[0m\n",
      "\u001b[0;32mpandas/_libs/hashtable_class_helper.pxi\u001b[0m in \u001b[0;36mpandas._libs.hashtable.PyObjectHashTable.get_item\u001b[0;34m()\u001b[0m\n",
      "\u001b[0;31mKeyError\u001b[0m: 'borrowed_amount'",
      "\nDuring handling of the above exception, another exception occurred:\n",
      "\u001b[0;31mKeyError\u001b[0m                                  Traceback (most recent call last)",
      "\u001b[0;32m<ipython-input-44-3fb24346d9c3>\u001b[0m in \u001b[0;36m<module>\u001b[0;34m\u001b[0m\n\u001b[1;32m      1\u001b[0m \u001b[0;31m#Calcolo la differenza tra il totale presentato e il totale ricevuto\u001b[0m\u001b[0;34m\u001b[0m\u001b[0;34m\u001b[0m\u001b[0;34m\u001b[0m\u001b[0m\n\u001b[1;32m      2\u001b[0m \u001b[0;34m\u001b[0m\u001b[0m\n\u001b[0;32m----> 3\u001b[0;31m \u001b[0mcountry_lent_borr\u001b[0m\u001b[0;34m[\u001b[0m\u001b[0;34m\"difference\"\u001b[0m\u001b[0;34m]\u001b[0m \u001b[0;34m=\u001b[0m \u001b[0;34m(\u001b[0m\u001b[0mcountry_lent_borr\u001b[0m\u001b[0;34m[\u001b[0m\u001b[0;34m\"lent_amount\"\u001b[0m\u001b[0;34m]\u001b[0m \u001b[0;34m-\u001b[0m \u001b[0mcountry_lent_borr\u001b[0m\u001b[0;34m[\u001b[0m\u001b[0;34m\"borrowed_amount\"\u001b[0m\u001b[0;34m]\u001b[0m\u001b[0;34m)\u001b[0m\u001b[0;34m\u001b[0m\u001b[0;34m\u001b[0m\u001b[0m\n\u001b[0m",
      "\u001b[0;32m~/anaconda3/lib/python3.7/site-packages/pandas/core/frame.py\u001b[0m in \u001b[0;36m__getitem__\u001b[0;34m(self, key)\u001b[0m\n\u001b[1;32m   2978\u001b[0m             \u001b[0;32mif\u001b[0m \u001b[0mself\u001b[0m\u001b[0;34m.\u001b[0m\u001b[0mcolumns\u001b[0m\u001b[0;34m.\u001b[0m\u001b[0mnlevels\u001b[0m \u001b[0;34m>\u001b[0m \u001b[0;36m1\u001b[0m\u001b[0;34m:\u001b[0m\u001b[0;34m\u001b[0m\u001b[0;34m\u001b[0m\u001b[0m\n\u001b[1;32m   2979\u001b[0m                 \u001b[0;32mreturn\u001b[0m \u001b[0mself\u001b[0m\u001b[0;34m.\u001b[0m\u001b[0m_getitem_multilevel\u001b[0m\u001b[0;34m(\u001b[0m\u001b[0mkey\u001b[0m\u001b[0;34m)\u001b[0m\u001b[0;34m\u001b[0m\u001b[0;34m\u001b[0m\u001b[0m\n\u001b[0;32m-> 2980\u001b[0;31m             \u001b[0mindexer\u001b[0m \u001b[0;34m=\u001b[0m \u001b[0mself\u001b[0m\u001b[0;34m.\u001b[0m\u001b[0mcolumns\u001b[0m\u001b[0;34m.\u001b[0m\u001b[0mget_loc\u001b[0m\u001b[0;34m(\u001b[0m\u001b[0mkey\u001b[0m\u001b[0;34m)\u001b[0m\u001b[0;34m\u001b[0m\u001b[0;34m\u001b[0m\u001b[0m\n\u001b[0m\u001b[1;32m   2981\u001b[0m             \u001b[0;32mif\u001b[0m \u001b[0mis_integer\u001b[0m\u001b[0;34m(\u001b[0m\u001b[0mindexer\u001b[0m\u001b[0;34m)\u001b[0m\u001b[0;34m:\u001b[0m\u001b[0;34m\u001b[0m\u001b[0;34m\u001b[0m\u001b[0m\n\u001b[1;32m   2982\u001b[0m                 \u001b[0mindexer\u001b[0m \u001b[0;34m=\u001b[0m \u001b[0;34m[\u001b[0m\u001b[0mindexer\u001b[0m\u001b[0;34m]\u001b[0m\u001b[0;34m\u001b[0m\u001b[0;34m\u001b[0m\u001b[0m\n",
      "\u001b[0;32m~/anaconda3/lib/python3.7/site-packages/pandas/core/indexes/base.py\u001b[0m in \u001b[0;36mget_loc\u001b[0;34m(self, key, method, tolerance)\u001b[0m\n\u001b[1;32m   2897\u001b[0m                 \u001b[0;32mreturn\u001b[0m \u001b[0mself\u001b[0m\u001b[0;34m.\u001b[0m\u001b[0m_engine\u001b[0m\u001b[0;34m.\u001b[0m\u001b[0mget_loc\u001b[0m\u001b[0;34m(\u001b[0m\u001b[0mkey\u001b[0m\u001b[0;34m)\u001b[0m\u001b[0;34m\u001b[0m\u001b[0;34m\u001b[0m\u001b[0m\n\u001b[1;32m   2898\u001b[0m             \u001b[0;32mexcept\u001b[0m \u001b[0mKeyError\u001b[0m\u001b[0;34m:\u001b[0m\u001b[0;34m\u001b[0m\u001b[0;34m\u001b[0m\u001b[0m\n\u001b[0;32m-> 2899\u001b[0;31m                 \u001b[0;32mreturn\u001b[0m \u001b[0mself\u001b[0m\u001b[0;34m.\u001b[0m\u001b[0m_engine\u001b[0m\u001b[0;34m.\u001b[0m\u001b[0mget_loc\u001b[0m\u001b[0;34m(\u001b[0m\u001b[0mself\u001b[0m\u001b[0;34m.\u001b[0m\u001b[0m_maybe_cast_indexer\u001b[0m\u001b[0;34m(\u001b[0m\u001b[0mkey\u001b[0m\u001b[0;34m)\u001b[0m\u001b[0;34m)\u001b[0m\u001b[0;34m\u001b[0m\u001b[0;34m\u001b[0m\u001b[0m\n\u001b[0m\u001b[1;32m   2900\u001b[0m         \u001b[0mindexer\u001b[0m \u001b[0;34m=\u001b[0m \u001b[0mself\u001b[0m\u001b[0;34m.\u001b[0m\u001b[0mget_indexer\u001b[0m\u001b[0;34m(\u001b[0m\u001b[0;34m[\u001b[0m\u001b[0mkey\u001b[0m\u001b[0;34m]\u001b[0m\u001b[0;34m,\u001b[0m \u001b[0mmethod\u001b[0m\u001b[0;34m=\u001b[0m\u001b[0mmethod\u001b[0m\u001b[0;34m,\u001b[0m \u001b[0mtolerance\u001b[0m\u001b[0;34m=\u001b[0m\u001b[0mtolerance\u001b[0m\u001b[0;34m)\u001b[0m\u001b[0;34m\u001b[0m\u001b[0;34m\u001b[0m\u001b[0m\n\u001b[1;32m   2901\u001b[0m         \u001b[0;32mif\u001b[0m \u001b[0mindexer\u001b[0m\u001b[0;34m.\u001b[0m\u001b[0mndim\u001b[0m \u001b[0;34m>\u001b[0m \u001b[0;36m1\u001b[0m \u001b[0;32mor\u001b[0m \u001b[0mindexer\u001b[0m\u001b[0;34m.\u001b[0m\u001b[0msize\u001b[0m \u001b[0;34m>\u001b[0m \u001b[0;36m1\u001b[0m\u001b[0;34m:\u001b[0m\u001b[0;34m\u001b[0m\u001b[0;34m\u001b[0m\u001b[0m\n",
      "\u001b[0;32mpandas/_libs/index.pyx\u001b[0m in \u001b[0;36mpandas._libs.index.IndexEngine.get_loc\u001b[0;34m()\u001b[0m\n",
      "\u001b[0;32mpandas/_libs/index.pyx\u001b[0m in \u001b[0;36mpandas._libs.index.IndexEngine.get_loc\u001b[0;34m()\u001b[0m\n",
      "\u001b[0;32mpandas/_libs/hashtable_class_helper.pxi\u001b[0m in \u001b[0;36mpandas._libs.hashtable.PyObjectHashTable.get_item\u001b[0;34m()\u001b[0m\n",
      "\u001b[0;32mpandas/_libs/hashtable_class_helper.pxi\u001b[0m in \u001b[0;36mpandas._libs.hashtable.PyObjectHashTable.get_item\u001b[0;34m()\u001b[0m\n",
      "\u001b[0;31mKeyError\u001b[0m: 'borrowed_amount'"
     ]
    }
   ],
   "source": [
    "#Calcolo la differenza tra il totale presentato e il totale ricevuto\n",
    "\n",
    "country_lent_borr[\"difference\"] = (country_lent_borr[\"lent_amount\"] - country_lent_borr[\"borrowed_amount\"])"
   ]
  },
  {
   "cell_type": "code",
   "execution_count": null,
   "metadata": {},
   "outputs": [],
   "source": [
    "#Decommentare questa riga per vedere i risultati\n",
    "country_lent_borr.head()"
   ]
  }
 ],
 "metadata": {
  "kernelspec": {
   "display_name": "Python 3",
   "language": "python",
   "name": "python3"
  },
  "language_info": {
   "codemirror_mode": {
    "name": "ipython",
    "version": 3
   },
   "file_extension": ".py",
   "mimetype": "text/x-python",
   "name": "python",
   "nbconvert_exporter": "python",
   "pygments_lexer": "ipython3",
   "version": "3.7.4"
  }
 },
 "nbformat": 4,
 "nbformat_minor": 4
}
