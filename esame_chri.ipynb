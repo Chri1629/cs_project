{
 "cells": [
  {
   "cell_type": "markdown",
   "metadata": {},
   "source": [
    "# Progetto Computer Science\n",
    "\n",
    "*Nome:* Christian\n",
    "\n",
    "*Cognome:* Uccheddu\n",
    "\n",
    "*Matricola:* 800428\n"
   ]
  },
  {
   "cell_type": "markdown",
   "metadata": {},
   "source": [
    "**Setup dell'ambiente**\n",
    "\n",
    "Importazione di tutte le librerie utili al funzionamento del programma e settaggio dei path in cui sono presenti i dati in modo da essere facilmente cambiabili all'inizio del programma."
   ]
  },
  {
   "cell_type": "code",
   "execution_count": 63,
   "metadata": {},
   "outputs": [],
   "source": [
    "import pandas as pd\n",
    "import datetime\n",
    "import numpy as np"
   ]
  },
  {
   "cell_type": "code",
   "execution_count": 64,
   "metadata": {},
   "outputs": [],
   "source": [
    "loans_path = r\"/home/christian/Scrivania/progetti/cs_project/dataset/loans.csv\"\n",
    "loans_lenders_path = r\"/home/christian/Scrivania/progetti/cs_project/dataset/loans_lenders.csv\"\n",
    "lenders_path = r\"/home/christian/Scrivania/progetti/cs_project/dataset/lenders.csv\"\n",
    "country_stats_path = r\"/home/christian/Scrivania/progetti/cs_project/dataset/country_stats.csv\" "
   ]
  },
  {
   "cell_type": "markdown",
   "metadata": {},
   "source": [
    "**1) Normalize the loan_lenders table. In the normalized table, each row must have one loan_id and one lender.**\n",
    "\n",
    "Per questo compito mi occupo di importare il file loans_lenders, di analizzarne la struttura e successivamente decidere come procedere."
   ]
  },
  {
   "cell_type": "code",
   "execution_count": 65,
   "metadata": {},
   "outputs": [],
   "source": [
    "loans_lenders = pd.read_csv(loans_lenders_path)"
   ]
  },
  {
   "cell_type": "code",
   "execution_count": 66,
   "metadata": {},
   "outputs": [
    {
     "data": {
      "text/html": [
       "<div>\n",
       "<style scoped>\n",
       "    .dataframe tbody tr th:only-of-type {\n",
       "        vertical-align: middle;\n",
       "    }\n",
       "\n",
       "    .dataframe tbody tr th {\n",
       "        vertical-align: top;\n",
       "    }\n",
       "\n",
       "    .dataframe thead th {\n",
       "        text-align: right;\n",
       "    }\n",
       "</style>\n",
       "<table border=\"1\" class=\"dataframe\">\n",
       "  <thead>\n",
       "    <tr style=\"text-align: right;\">\n",
       "      <th></th>\n",
       "      <th>loan_id</th>\n",
       "      <th>lenders</th>\n",
       "    </tr>\n",
       "  </thead>\n",
       "  <tbody>\n",
       "    <tr>\n",
       "      <td>0</td>\n",
       "      <td>483693</td>\n",
       "      <td>muc888, sam4326, camaran3922, lachheb1865, reb...</td>\n",
       "    </tr>\n",
       "    <tr>\n",
       "      <td>1</td>\n",
       "      <td>483738</td>\n",
       "      <td>muc888, nora3555, williammanashi, barbara5610,...</td>\n",
       "    </tr>\n",
       "    <tr>\n",
       "      <td>2</td>\n",
       "      <td>485000</td>\n",
       "      <td>muc888, terrystl, richardandsusan8352, sherri4...</td>\n",
       "    </tr>\n",
       "    <tr>\n",
       "      <td>3</td>\n",
       "      <td>486087</td>\n",
       "      <td>muc888, james5068, rudi5955, daniel9859, don92...</td>\n",
       "    </tr>\n",
       "    <tr>\n",
       "      <td>4</td>\n",
       "      <td>534428</td>\n",
       "      <td>muc888, niki3008, teresa9174, mike4896, david7...</td>\n",
       "    </tr>\n",
       "  </tbody>\n",
       "</table>\n",
       "</div>"
      ],
      "text/plain": [
       "   loan_id                                            lenders\n",
       "0   483693  muc888, sam4326, camaran3922, lachheb1865, reb...\n",
       "1   483738  muc888, nora3555, williammanashi, barbara5610,...\n",
       "2   485000  muc888, terrystl, richardandsusan8352, sherri4...\n",
       "3   486087  muc888, james5068, rudi5955, daniel9859, don92...\n",
       "4   534428  muc888, niki3008, teresa9174, mike4896, david7..."
      ]
     },
     "execution_count": 66,
     "metadata": {},
     "output_type": "execute_result"
    }
   ],
   "source": [
    "loans_lenders.head()"
   ]
  },
  {
   "cell_type": "markdown",
   "metadata": {},
   "source": [
    "Vedendo la struttura del dataframe, la normalizzazione della tabella consiste nel separare gli elementi presenti nella colonna lenders in modo che il dataframe sia formato da celle in cui è presente solo una istanza. Per farlo separo gli elementi che si trovano in corrispondenza della virgola, essendoci uno spazio vuoto dopo la virgola dovrò stare attento a considerarlo. Per ovviare a questo problema trasformo gli elementi ad ogni istanza di lenders in una lista."
   ]
  },
  {
   "cell_type": "code",
   "execution_count": null,
   "metadata": {},
   "outputs": [],
   "source": [
    "loans_lenders['lenders'] = loans_lenders.apply(lambda row: row['lenders'].split(','), axis = 1)"
   ]
  },
  {
   "cell_type": "markdown",
   "metadata": {},
   "source": [
    "Per separare gli elementi utilizzo la funzione *explode* implementata all'interno della libreria pandas che permette di sepoarare gli elementi di una lista lungo l'asse voluto."
   ]
  },
  {
   "cell_type": "code",
   "execution_count": null,
   "metadata": {},
   "outputs": [],
   "source": [
    "loans_lenders_norm = loans_lenders.explode('lenders')"
   ]
  },
  {
   "cell_type": "code",
   "execution_count": null,
   "metadata": {},
   "outputs": [],
   "source": [
    "# Decommentare questa riga per vedere i risultati.\n",
    "loans_lenders_norm.head()"
   ]
  },
  {
   "cell_type": "markdown",
   "metadata": {},
   "source": [
    "**2) For each loan, add a column duration corresponding to the number of days between the disburse time and the planned expiration time. If any of those two dates is missing, also the duration must be missing.**\n",
    "\n",
    "Come per il punto precedente procedo con una esplorazione preliminare del file in cui sono presenti gli attributi utili allo svolgimento del compito. Dopo averne fatto una prima visualizzazione degli attributi si nota che è utile passare gli attributi \"disburse_time\" e \"planned_expiration_time\" come date al momento dell'importazione."
   ]
  },
  {
   "cell_type": "code",
   "execution_count": null,
   "metadata": {},
   "outputs": [],
   "source": [
    "loans = pd.read_csv(loans_path, parse_dates=[\"disburse_time\", \"planned_expiration_time\"])"
   ]
  },
  {
   "cell_type": "code",
   "execution_count": null,
   "metadata": {},
   "outputs": [],
   "source": [
    "loans.head()"
   ]
  },
  {
   "cell_type": "code",
   "execution_count": null,
   "metadata": {},
   "outputs": [],
   "source": [
    "loans[\"duration\"] = loans[\"planned_expiration_time\"] - loans[\"disburse_time\"]"
   ]
  },
  {
   "cell_type": "markdown",
   "metadata": {},
   "source": [
    "Controllo per sicurezza quanti sono gli attributi nulli una volta fatta la differenza. In particolare è un numero abbastanza grosso, bisognerebbe quindi occuparsi di riempire i missing values."
   ]
  },
  {
   "cell_type": "code",
   "execution_count": null,
   "metadata": {},
   "outputs": [],
   "source": [
    "loans.loc[loans['duration'].isnull() == True]"
   ]
  },
  {
   "cell_type": "markdown",
   "metadata": {},
   "source": [
    "**3) Find the lenders that have funded at least twice.**\n",
    "\n",
    "Per fare questa cosa ho gli attributi già pronti. Per prima cosa bisogna effettuare un merge tra loans_lenders_norm e loans per sapere se tutte le istanze presenti in loans_lenders norm corrispondano allo stato \"funded\", una volta fatto questo mi occupo di tenere solo le righe in cui lo stato è funded e di selezionare solo quelle con un conteggio maggiore di o uguale a 2. Per non sovraccaricare troppo i conti mi preoccupo di fare il merge solo con gli attributi che serviranno durante i conti."
   ]
  },
  {
   "cell_type": "code",
   "execution_count": null,
   "metadata": {},
   "outputs": [],
   "source": [
    "loans_lenders_merged = pd.merge(loans_lenders_norm, loans[[\"loan_id\", \"status\"]], on=\"loan_id\", how=\"left\")"
   ]
  },
  {
   "cell_type": "code",
   "execution_count": null,
   "metadata": {},
   "outputs": [],
   "source": [
    "loans_lenders_merged_funded = loans_lenders_merged[loans_lenders_merged[\"status\"] == \"funded\"]"
   ]
  },
  {
   "cell_type": "code",
   "execution_count": null,
   "metadata": {},
   "outputs": [],
   "source": [
    "num_loan = loans_lenders_merged_funded.groupby('lenders').count()['loan_id']\n",
    "num_loan.loc[num_loan >= 2]"
   ]
  },
  {
   "cell_type": "markdown",
   "metadata": {},
   "source": [
    "**4) For each country, compute how many loans have involved that country as borrowers.**\n",
    "\n",
    "Durante l'esecuzione di questo punto nasce la problematica causata dal gran numero di NaN presenti nell'attributo duration notato durante l'esecuzione del punto 2. Per effettuare un calcolo corretto bisogna quindi mettere delle condizioni, in particolare creo un nuovo dataframe che contenga le righe di loans con le seguenti caratteristiche:\n",
    "\n",
    "- Non hanno valori null in \"duration\".\n",
    "- Per quanto riguarda i valori in \"planned_expiration_time\" che siano minori di \"disburse_time\" vengono cancellati visto che sono pochi (circa 1\\% come mostrato sotto). "
   ]
  },
  {
   "cell_type": "code",
   "execution_count": null,
   "metadata": {},
   "outputs": [],
   "source": [
    "loans_not_null = loans[loans[\"duration\"].isnull() == False]\n",
    "condition = loans_not_null[loans_not_null[\"planned_expiration_time\"] < loans_not_null[\"disburse_time\"]]\n",
    "round(len(condition)/len(loans_not_null)*100,2)"
   ]
  },
  {
   "cell_type": "code",
   "execution_count": null,
   "metadata": {},
   "outputs": [],
   "source": [
    "loans_not_null = loans_not_null[loans_not_null[\"planned_expiration_time\"] > loans_not_null[\"disburse_time\"]]"
   ]
  },
  {
   "cell_type": "markdown",
   "metadata": {},
   "source": [
    "Ora mi occuppo di raggruppare per country e di contare solo quelli corretti."
   ]
  },
  {
   "cell_type": "code",
   "execution_count": null,
   "metadata": {},
   "outputs": [],
   "source": [
    "num_loans_country = loans_not_null.groupby('country_name').count()['loan_id']"
   ]
  },
  {
   "cell_type": "code",
   "execution_count": null,
   "metadata": {},
   "outputs": [],
   "source": [
    "#Decommentare questa riga per la visualizzazione dei risultati.\n",
    "#num_loans_country"
   ]
  },
  {
   "cell_type": "markdown",
   "metadata": {},
   "source": [
    "**5) For each country, compute the overall amount of money borrowed.** \n",
    "\n",
    "Per farlo è gia a disposizione il dataset sistemato, bisogna solo raggruppare e sommare per paese."
   ]
  },
  {
   "cell_type": "code",
   "execution_count": null,
   "metadata": {},
   "outputs": [],
   "source": [
    "borr_country = loans_not_null.groupby('country_name')['loan_amount'].sum()\n",
    "borr_country = borr_country.reset_index().rename(columns={\"loan_amount\" : \"borrowed_amount\"})"
   ]
  },
  {
   "cell_type": "code",
   "execution_count": null,
   "metadata": {},
   "outputs": [],
   "source": [
    "#Decommentare questa riga per vedere i risultati\n",
    "#borr_country"
   ]
  },
  {
   "cell_type": "markdown",
   "metadata": {},
   "source": [
    "**6) Like the previous point, but expressed as a percentage of the overall amount lent.**\n",
    "\n",
    "Allo stesso modo del punto precedente, basta stare attenti a fare il conto giusto."
   ]
  },
  {
   "cell_type": "code",
   "execution_count": null,
   "metadata": {},
   "outputs": [],
   "source": [
    "overall_amount_lent = loans_not_null['loan_amount'].sum()\n",
    "borr_country_perc = pd.DataFrame(loans_not_null.groupby('country_name')['loan_amount'].sum())\n",
    "borr_country_perc['percentage'] = round(borr_country_perc['loan_amount'] / overall_amount_lent * 100, 2)\n",
    "borr_country_perc = borr_country_perc.rename(columns={\"loan_amount\" : \"loan_amount_perc\"})"
   ]
  },
  {
   "cell_type": "code",
   "execution_count": null,
   "metadata": {},
   "outputs": [],
   "source": [
    "#Decommentare questa riga per vedere i risultati.\n",
    "#borr_country_perc"
   ]
  },
  {
   "cell_type": "markdown",
   "metadata": {},
   "source": [
    "Eseguo la somma per vedere che il risultato è unitario, ciò è vero a meno di approssimazioni che sono state svolte durante i conteggi:"
   ]
  },
  {
   "cell_type": "code",
   "execution_count": null,
   "metadata": {},
   "outputs": [],
   "source": [
    "round(borr_country_perc['percentage'].sum(),2)"
   ]
  },
  {
   "cell_type": "markdown",
   "metadata": {},
   "source": [
    "**7) Like the three previous points, but split for each year (with respect to disburse time).**\n",
    "\n",
    "Il primo passaggio è quello di riprendere il dataset creato in precedenza e settare l'attributo \"disburse_time\" come indice in modo da poterci applicare il metodo Grouper di pandas."
   ]
  },
  {
   "cell_type": "code",
   "execution_count": null,
   "metadata": {},
   "outputs": [],
   "source": [
    "loans_not_null[\"disburse_time\"] =  pd.to_datetime(loans_not_null[\"disburse_time\"])\n",
    "loans_not_null = loans_not_null.set_index(\"disburse_time\")\n",
    "loans_by_year_sum = loans_not_null.groupby([\"country_name\", pd.Grouper(freq=\"Y\")])[\"loan_amount\"].sum().to_frame()"
   ]
  },
  {
   "cell_type": "markdown",
   "metadata": {},
   "source": [
    "Ora faccio le stesse cose fatte sopra ma calcolando la percentuale. Per farlo devo contare quanti sono stati e dividere il count per il \"loan_amount\" per il conteggio."
   ]
  },
  {
   "cell_type": "code",
   "execution_count": null,
   "metadata": {},
   "outputs": [],
   "source": [
    "loans_by_year_perc = loans_by_year_sum\n",
    "loans_by_year_perc[\"loan_amount\"] = loans_by_year_perc[\"loan_amount\"]/overall_amount_lent*100\n",
    "loans_by_year_perc = loans_by_year_perc.rename(columns={\"loan_amount\" : \"loan_amount_perc\"})"
   ]
  },
  {
   "cell_type": "markdown",
   "metadata": {},
   "source": [
    "Faccio come sopra in modo da poter contare questa volta."
   ]
  },
  {
   "cell_type": "code",
   "execution_count": null,
   "metadata": {},
   "outputs": [],
   "source": [
    "loans_by_year_count = loans_not_null.groupby([\"country_name\", pd.Grouper(freq=\"Y\")])[\"loan_id\"].count().to_frame()\n",
    "loans_by_year_count = loans_by_year_count.rename(columns={\"loan_id\" : \"count\"})"
   ]
  },
  {
   "cell_type": "markdown",
   "metadata": {},
   "source": [
    "Eseguo il merge tra i tre dataframe selezionando solo le colonne che non sono duplicate in modo da avere il minor spreco di memoria possibile."
   ]
  },
  {
   "cell_type": "code",
   "execution_count": null,
   "metadata": {},
   "outputs": [],
   "source": [
    "country_statistics_by_year = pd.concat([loans_by_year_count, loans_by_year_sum, loans_by_year_perc], axis=1)\n",
    "country_statistics_by_year = country_statistics_by_year.loc[:, ~country_statistics_by_year.columns.duplicated()]"
   ]
  },
  {
   "cell_type": "code",
   "execution_count": null,
   "metadata": {},
   "outputs": [],
   "source": [
    "#Decommentare questa riga per stampare i risultati.\n",
    "country_statistics_by_year"
   ]
  },
  {
   "cell_type": "markdown",
   "metadata": {},
   "source": [
    "**8) For each lender, compute the overall amount of money lent.**\n",
    "\n",
    "La prima cosa da fare è capire per ogni id il numero di lenders coinvolti, e ciò viene fatto contando il numero di persone presenti nel loan_id. L'assunzione fatta è che ogni lenders si sia occupato in egual misura di ogni loan."
   ]
  },
  {
   "cell_type": "code",
   "execution_count": 28,
   "metadata": {},
   "outputs": [],
   "source": [
    "lenders_num = loans_lenders_norm.groupby(\"loan_id\").count().reset_index().rename(columns={\"lenders\" : \"lenders_count\"})"
   ]
  },
  {
   "cell_type": "code",
   "execution_count": 29,
   "metadata": {},
   "outputs": [],
   "source": [
    "lenders_num_details = pd.merge(lenders_num, loans_not_null, on=\"loan_id\")[[\"loan_id\", \"lenders_count\", \"loan_amount\"]]"
   ]
  },
  {
   "cell_type": "code",
   "execution_count": 30,
   "metadata": {},
   "outputs": [],
   "source": [
    "lenders_num_details[\"amount_per_person\"] = lenders_num_details[\"loan_amount\"] / lenders_num_details[\"lenders_count\"]"
   ]
  },
  {
   "cell_type": "code",
   "execution_count": 31,
   "metadata": {},
   "outputs": [],
   "source": [
    "loans_lenders_merged = pd.merge(loans_lenders_norm, lenders_num_details, on=\"loan_id\", how=\"left\")"
   ]
  },
  {
   "cell_type": "code",
   "execution_count": 32,
   "metadata": {},
   "outputs": [],
   "source": [
    "lenders_overall_lent = loans_lenders_merged.groupby(\"lenders\")[\"amount_per_person\"].sum().to_frame().reset_index()"
   ]
  },
  {
   "cell_type": "code",
   "execution_count": 33,
   "metadata": {},
   "outputs": [],
   "source": [
    "#Decommentare questa riga per vedere i risultati\n",
    "lenders_overall_lent"
   ]
  },
  {
   "cell_type": "markdown",
   "metadata": {},
   "source": [
    "**9) For each country, compute the difference between the overall amount of money lent and the overall amount of money borrowed. Since the country of the lender is often unknown, you can assume that the true distribution among the countries is the same as the one computed from the rows where the country is known.**\n",
    "\n",
    "La prima cosa da fare è sistemare il dataframe in modo da averlo senza valori NaN. Una volta diviso il dataframe in queste due parti cerco di calcolare la distribuzione nel dataframe in cui tutto è conosciuto e la applico al secondo dataframe."
   ]
  },
  {
   "cell_type": "code",
   "execution_count": 34,
   "metadata": {},
   "outputs": [],
   "source": [
    "lenders = pd.read_csv(lenders_path)"
   ]
  },
  {
   "cell_type": "code",
   "execution_count": 35,
   "metadata": {},
   "outputs": [],
   "source": [
    "lenders_notnull = lenders.loc[lenders[\"country_code\"].isnull() == False].reset_index()   \n",
    "lenders_null = lenders.loc[lenders[\"country_code\"].isnull() == True].reset_index()   "
   ]
  },
  {
   "cell_type": "code",
   "execution_count": 36,
   "metadata": {},
   "outputs": [
    {
     "name": "stdout",
     "output_type": "stream",
     "text": [
      "890539\n"
     ]
    }
   ],
   "source": [
    "tot_notnull_users = len(lenders_notnull.index)\n",
    "print(tot_notnull_users)"
   ]
  },
  {
   "cell_type": "markdown",
   "metadata": {},
   "source": [
    "Calcolo la distribuzione delle nazioni nel dataframe lenders_notnull"
   ]
  },
  {
   "cell_type": "code",
   "execution_count": 37,
   "metadata": {},
   "outputs": [],
   "source": [
    "country_ripartition = lenders_notnull[[\"index\", \"country_code\"]].groupby(\"country_code\").count().reset_index().rename(columns = {\"index\":\"n_users\"})\n",
    "country_ripartition[\"percentage\"] = country_ripartition[\"n_users\"]/tot_notnull_users*100"
   ]
  },
  {
   "cell_type": "markdown",
   "metadata": {},
   "source": [
    "Ora riempio il dataframe lenders_null in modo che abbia la stessa distribuzione di lenders_notnull.\n",
    "Per fare questo uso la funzione np.random.choice (inserendo come seed '1234')\n",
    "In questo modo assegno la nazionalità in modo randomico e non sistematico (x. es. partendo dall'alto), ottenendo la distribuzione finale che voglio ottenere\n",
    "ma per fare questo devo normalizzare le percentuali dividendole per la loro somma, altrimenti otterei l'errore (probabilities do not sum to 1"
   ]
  },
  {
   "cell_type": "code",
   "execution_count": 38,
   "metadata": {},
   "outputs": [],
   "source": [
    "country_ripartition[\"percentage\"] /= country_ripartition[\"percentage\"].sum()"
   ]
  },
  {
   "cell_type": "code",
   "execution_count": 39,
   "metadata": {},
   "outputs": [],
   "source": [
    "np.random.seed(1234)\n",
    "lenders_null[\"country_code\"] = np.random.choice(country_ripartition[\"country_code\"], size=len(lenders_null.index), p = country_ripartition[\"percentage\"])"
   ]
  },
  {
   "cell_type": "code",
   "execution_count": 40,
   "metadata": {},
   "outputs": [],
   "source": [
    "lenders = pd.concat([lenders_notnull, lenders_null]).drop(columns=\"index\")"
   ]
  },
  {
   "cell_type": "markdown",
   "metadata": {},
   "source": [
    "Ora che il dataframe è sistemato con la distribuzione giusta, proseguo con la richiesta dell'esercizio.\n",
    "\n",
    "Integro i dataframe \"lenders\", il quale ha i nomi dei lenders e la loro nazionalità, e il dataframe \"lenders_overall_lent\" che indica per ogni lender l'ammontare \"lent\".\n",
    "\n",
    "A quel punto raggruppo per nazionalità e effettuo una somma, ottenendo l'ammontare \"lent\" per ogni nazione.\n",
    "\n",
    "Inserisco queste info nel dataframe \"tot_lent_country\".\n"
   ]
  },
  {
   "cell_type": "code",
   "execution_count": 41,
   "metadata": {},
   "outputs": [],
   "source": [
    "tot_lent_country = pd.merge(lenders_overall_lent, lenders[[\"permanent_name\", \"country_code\"]], left_on=\"lenders\", right_on=\"permanent_name\")\n",
    "tot_lent_country = tot_lent_country.drop(columns=\"permanent_name\")\n",
    "tot_lent_country = tot_lent_country.groupby(\"country_code\")[\"amount_per_person\"].sum()\n",
    "tot_lent_country = tot_lent_country.to_frame().rename(columns={\"amount_per_person\" : \"lent_amount\"}).reset_index()"
   ]
  },
  {
   "cell_type": "markdown",
   "metadata": {},
   "source": [
    "Nel dataframe \"tot_lent_country\" ho indicato il country_code, mentre nel dataframe \"tot_borr_country\" ho il nome della nazione, informazioni che mi servono entrambe. Eseguo quindi un merge per averle entrambe a portata di mano."
   ]
  },
  {
   "cell_type": "code",
   "execution_count": 42,
   "metadata": {},
   "outputs": [],
   "source": [
    "country_stats = pd.read_csv(country_stats_path)\n",
    "loans_country = pd.merge(borr_country, country_stats[[\"country_name\", \"country_code\"]], on=\"country_name\")"
   ]
  },
  {
   "cell_type": "markdown",
   "metadata": {},
   "source": [
    "Unisco ora le informazioni riguardo ai money_lent e ai money_borrowed in modo da poter eseguire la differenza tra questi due valori."
   ]
  },
  {
   "cell_type": "code",
   "execution_count": 43,
   "metadata": {},
   "outputs": [],
   "source": [
    "country_lent_borr = pd.merge(tot_lent_country, loans_country, on=\"country_code\")\n",
    "country_lent_borr = country_lent_borr[[\"country_name\", \"country_code\", \"lent_amount\", \"borrowed_amount\"]]\n",
    "country_lent_borr[\"difference\"] = (country_lent_borr[\"lent_amount\"] - country_lent_borr[\"borrowed_amount\"])"
   ]
  },
  {
   "cell_type": "code",
   "execution_count": 44,
   "metadata": {},
   "outputs": [],
   "source": [
    "#Decommentare questa riga per vedere i risultati\n",
    "#country_lent_borr.head()"
   ]
  },
  {
   "cell_type": "markdown",
   "metadata": {},
   "source": [
    "**10) Which country has the highest ratio between the difference computed at the previous point and the population?**\n",
    "\n",
    "Per risolvere questo punto ho già tutte le informazioni che mi servono a portata di mano, le integro facendo un merge e poi svolgo una semplice query. Visto che ottengo differenze negative, sto attento a prendere il valore assoluto dell'indice costruito."
   ]
  },
  {
   "cell_type": "code",
   "execution_count": 45,
   "metadata": {},
   "outputs": [],
   "source": [
    "country_lent_borr  = pd.merge(country_lent_borr, country_stats[[\"country_code\", \"population\"]], on=\"country_code\")\n",
    "country_lent_borr[\"ratio\"] = abs(country_lent_borr[\"difference\"]/country_lent_borr[\"population\"])\n",
    "max = country_lent_borr[\"ratio\"].idxmax()\n",
    "country_max = country_lent_borr.loc[max]"
   ]
  },
  {
   "cell_type": "code",
   "execution_count": 46,
   "metadata": {},
   "outputs": [
    {
     "data": {
      "text/plain": [
       "country_name           Armenia\n",
       "country_code                AM\n",
       "lent_amount            1433.87\n",
       "borrowed_amount    2.05793e+07\n",
       "difference        -2.05778e+07\n",
       "population             2930450\n",
       "ratio                  7.02208\n",
       "Name: 2, dtype: object"
      ]
     },
     "execution_count": 46,
     "metadata": {},
     "output_type": "execute_result"
    }
   ],
   "source": [
    "#Decommentare questa riga per vedere i risultati\n",
    "country_max"
   ]
  },
  {
   "cell_type": "markdown",
   "metadata": {},
   "source": [
    "**11) Which country has the highest ratio between the difference computed at point 9 and the population that is not below the poverty line?**\n",
    "\n",
    "Cerco per prima cosa quali sono i paesi sopra la soglia della povertà. Avendo solo pochi valori nulli, per non incasinare troppo il calcolo decido di levare tutti i valori nulli. Calcolo infine il ratio sopra la soglia di povertà e lo inserisco nel dataframe. Attraverso il metodo idxmax trovo il massimo."
   ]
  },
  {
   "cell_type": "code",
   "execution_count": 47,
   "metadata": {},
   "outputs": [],
   "source": [
    "country_stats_not_null = country_stats[country_stats[\"population_below_poverty_line\"].isnull() == False]\n",
    "#country_stats_not_null = country_stats[\"population_below_poverty_line\"].dropna(axis = 0, how = any)"
   ]
  },
  {
   "cell_type": "code",
   "execution_count": 48,
   "metadata": {},
   "outputs": [],
   "source": [
    "pd.options.mode.chained_assignment = None \n",
    "country_stats_not_null[\"population_above_poverty_line\"] = (country_stats_not_null[\"population\"] -(country_stats_not_null[\"population\"]*country_stats_not_null[\"population_below_poverty_line\"]/100))"
   ]
  },
  {
   "cell_type": "code",
   "execution_count": 49,
   "metadata": {},
   "outputs": [],
   "source": [
    "country_lent_borr  = pd.merge(country_lent_borr, country_stats_not_null[[\"country_code\", \"population_above_poverty_line\"]], on=\"country_code\")"
   ]
  },
  {
   "cell_type": "code",
   "execution_count": 50,
   "metadata": {},
   "outputs": [],
   "source": [
    "country_lent_borr[\"ratio_above_poverty\"] = country_lent_borr[\"difference\"]/country_lent_borr[\"population_above_poverty_line\"]"
   ]
  },
  {
   "cell_type": "code",
   "execution_count": 51,
   "metadata": {},
   "outputs": [
    {
     "data": {
      "text/plain": [
       "country_name                     United States\n",
       "country_code                                US\n",
       "lent_amount                        4.05517e+07\n",
       "borrowed_amount                    2.82160e+07\n",
       "difference                         1.23357e+07\n",
       "population                           324459463\n",
       "ratio                                0.0380191\n",
       "population_above_poverty_line      2.75466e+08\n",
       "ratio_above_poverty                  0.0447811\n",
       "Name: 64, dtype: object"
      ]
     },
     "execution_count": 51,
     "metadata": {},
     "output_type": "execute_result"
    }
   ],
   "source": [
    "max = country_lent_borr[\"ratio_above_poverty\"].idxmax()\n",
    "country_lent_borr.loc[max]"
   ]
  },
  {
   "cell_type": "markdown",
   "metadata": {},
   "source": [
    "**12)  For each year, compute the total amount of loans. Each loan that has planned expiration time and disburse time in different years must have its amount distributed proportionally to the number of days in each year. For example, a loan with disburse time December 1st, 2016, planned expiration time January 30th 2018, and amount 5000USD has an amount of 5000USD * 31 / (31+365+30) = 363.85 for 2016, 5000USD * 365 / (31+365+30) = 4284.04 for 2017, and 5000USD * 30 / (31+365+30) = 352.11 for 2018.**\n",
    "\n",
    "La prima cosa da fare per velocizzare i conti è suddividere il dataframe in due dataframe, il primo conterrà solo gli elementi per cui \"disburse year\" e \"expiration year\" si collocano nello stesso anno, il secondo in cui gli anni dei due attributi sono differenti. Questa suddivisione nasce dal fatto che il conto per gli elementi che si trovano nello stesso annoè notevolmente più facile."
   ]
  },
  {
   "cell_type": "markdown",
   "metadata": {},
   "source": [
    "Per prima cosa resetto gli indici del dataframe che ho già pronto e mi occupo di rimuovere il fuso orario e le ore poiché sono ininfluenti nel calcolo"
   ]
  },
  {
   "cell_type": "code",
   "execution_count": 52,
   "metadata": {},
   "outputs": [],
   "source": [
    "loans_not_null = loans_not_null.reset_index()\n",
    "\n",
    "loans_not_null[\"disburse_time\"] = loans_not_null[\"disburse_time\"].dt.tz_localize(None)\n",
    "loans_not_null[\"planned_expiration_time\"] = loans_not_null[\"planned_expiration_time\"].dt.tz_localize(None)\n",
    "loans_not_null[\"disburse_time\"] = loans_not_null[\"disburse_time\"].dt.normalize()\n",
    "loans_not_null[\"planned_expiration_time\"] = loans_not_null[\"planned_expiration_time\"].dt.normalize()"
   ]
  },
  {
   "cell_type": "markdown",
   "metadata": {},
   "source": [
    "Divido ora il dataframe nei due sottoinsiemi"
   ]
  },
  {
   "cell_type": "code",
   "execution_count": 53,
   "metadata": {},
   "outputs": [],
   "source": [
    "loans_same_year= loans_not_null[loans_not_null[\"disburse_time\"].dt.year == loans_not_null[\"planned_expiration_time\"].dt.year][[\"loan_id\" , \"disburse_time\", \"planned_expiration_time\",\"loan_amount\"]]\n",
    "loans_diff_year = loans_not_null[loans_not_null[\"disburse_time\"].dt.year != loans_not_null[\"planned_expiration_time\"].dt.year][[\"loan_id\" ,\"disburse_time\", \"planned_expiration_time\",\"loan_amount\"]]"
   ]
  },
  {
   "cell_type": "markdown",
   "metadata": {},
   "source": [
    "Mi occupo prima del calcolo di quelli dello stesso anno"
   ]
  },
  {
   "cell_type": "code",
   "execution_count": 54,
   "metadata": {},
   "outputs": [],
   "source": [
    "loans_same_year_tot = loans_same_year.groupby(loans_same_year[\"disburse_time\"].dt.year)[\"loan_amount\"].sum()\n",
    "loans_same_year_tot = loans_same_year_tot.to_frame().reset_index()"
   ]
  },
  {
   "cell_type": "code",
   "execution_count": 55,
   "metadata": {},
   "outputs": [],
   "source": [
    "#Decommentare la riga seguente per vedere i risultati\n",
    "#loans_same_year_tot"
   ]
  },
  {
   "cell_type": "markdown",
   "metadata": {},
   "source": [
    "Ora che quelli che hanno lo stesso anno sono stati sistemati mi occupo di fare i conti per il dataframe dei loans che hanno gli anni diversi. Ciò perché questi andranno poi sommati a quelli che hanno gli anni uguali."
   ]
  },
  {
   "cell_type": "code",
   "execution_count": 57,
   "metadata": {},
   "outputs": [],
   "source": [
    "#Ripeto le righe n=(anni di durata+1) volte, seguendo la logica di cui sopra\n",
    "\n",
    "loans_diff_year = loans_diff_year.loc[loans_diff_year.index.repeat(loans_diff_year.planned_expiration_time.dt.year - loans_diff_year.disburse_time.dt.year + 1)]\n",
    "#Creo la colonna start_time\n",
    "\n",
    "loans_diff_year[\"start_time\"] = loans_diff_year.drop_duplicates()[\"disburse_time\"].dt.year.apply(lambda x: datetime.datetime(x, 1, 1)) \n",
    "#Vado a modificarla incrementando di un anno ogni volta che la riga si ripete, per ottenere il dataframe che mi serve \n",
    "\n",
    "y = loans_diff_year[\"disburse_time\"].dt.year\n",
    "loans_diff_year[\"start_time\"] = pd.to_datetime(loans_diff_year.groupby(loans_diff_year[\"loan_id\"]).cumcount() + y, format='%Y')\n",
    "#Creo end_time e la popolo similmente a start_time\n",
    "\n",
    "loans_diff_year[\"end_time\"] = pd.to_datetime(loans_diff_year.groupby(loans_diff_year[\"loan_id\"]).cumcount() + y, format='%Y')\n",
    "loans_diff_year[\"end_time\"] = loans_diff_year[\"start_time\"].dt.year.apply(lambda x: datetime.datetime(x, 12, 31)) "
   ]
  },
  {
   "cell_type": "code",
   "execution_count": 58,
   "metadata": {},
   "outputs": [],
   "source": [
    "#df.loc[condizioni, \"days_to_end\"] = assegno valore"
   ]
  },
  {
   "cell_type": "code",
   "execution_count": 59,
   "metadata": {},
   "outputs": [],
   "source": [
    "#Prima resetto l'indice\n",
    "\n",
    "loans_diff_year = loans_diff_year.reset_index()\n",
    "#Implemento la logica che ho descritto poco sopra\n",
    "\n",
    "loans_diff_year.loc[(loans_diff_year[\"planned_expiration_time\"].dt.year > loans_diff_year[\"end_time\"].dt.year) & (loans_diff_year[\"disburse_time\"].dt.year == loans_diff_year[\"start_time\"].dt.year), \"days_to_end\"] = (loans_diff_year[\"end_time\"] - loans_diff_year[\"disburse_time\"]).dt.days +1                       \n",
    "\n",
    "#Implemento la logica che ho descritto poco sopra\n",
    "\n",
    "loans_diff_year.loc[(loans_diff_year[\"planned_expiration_time\"].dt.year > loans_diff_year[\"end_time\"].dt.year) & (loans_diff_year[\"disburse_time\"].dt.year != loans_diff_year[\"start_time\"].dt.year), \"days_to_end\"] = (loans_diff_year[\"end_time\"] - loans_diff_year[\"start_time\"]).dt.days +1                                           \n",
    "\n",
    "loans_diff_year.loc[(loans_diff_year[\"planned_expiration_time\"].dt.year == loans_diff_year[\"end_time\"].dt.year), \"days_to_end\"] = (loans_diff_year[\"planned_expiration_time\"] - loans_diff_year[\"start_time\"]).dt.days +1    "
   ]
  },
  {
   "cell_type": "code",
   "execution_count": 60,
   "metadata": {},
   "outputs": [],
   "source": [
    "loans_diff_year[\"tot_days\"] = (loans_diff_year[\"planned_expiration_time\"] - loans_diff_year[\"disburse_time\"]).dt.days +1  \n",
    "loans_diff_year[\"loan_amount_per_year\"] = (loans_diff_year[\"loan_amount\"]* loans_diff_year[\"days_to_end\"])/loans_diff_year[\"tot_days\"]\n",
    "loans_diff_year_tot = loans_diff_year.groupby(loans_diff_year[\"start_time\"].dt.year)[\"loan_amount_per_year\"].sum().to_frame().reset_index()"
   ]
  },
  {
   "cell_type": "code",
   "execution_count": 62,
   "metadata": {},
   "outputs": [],
   "source": [
    "#Decommentare la riga seguente per vedere i risultati\n",
    "#loans_diff_year_tot"
   ]
  },
  {
   "cell_type": "markdown",
   "metadata": {},
   "source": [
    "Ora che ho i due dataframe pronti faccio un merge in modo da avere le colonne affiancate e le sommo, dei valori nulli che avevo prima devo fare in modo di sostituire i NaN con 0 in modo che la somma sia un numero e non un NaN."
   ]
  },
  {
   "cell_type": "code",
   "execution_count": 64,
   "metadata": {},
   "outputs": [],
   "source": [
    "tot = pd.merge(loans_diff_year_tot, loans_same_year_tot, left_on =\"start_time\", right_on=\"disburse_time\", how=\"outer\")\n",
    "#tot"
   ]
  },
  {
   "cell_type": "code",
   "execution_count": 65,
   "metadata": {},
   "outputs": [],
   "source": [
    "tot[[\"loan_amount_per_year\" , \"loan_amount\"]] = tot[[\"loan_amount_per_year\" , \"loan_amount\"]].fillna(0)\n",
    "tot[\"start_time\"] = tot[\"start_time\"].fillna(tot[\"disburse_time\"])\n",
    "tot[\"disburse_time\"] = tot[\"disburse_time\"].fillna(tot[\"start_time\"])\n"
   ]
  },
  {
   "cell_type": "code",
   "execution_count": 66,
   "metadata": {},
   "outputs": [],
   "source": [
    "tot[\"total_per_year\"] = tot[\"loan_amount_per_year\"] + tot[\"loan_amount\"]\n",
    "tot = tot[[\"start_time\", \"total_per_year\"]]"
   ]
  },
  {
   "cell_type": "code",
   "execution_count": 68,
   "metadata": {},
   "outputs": [],
   "source": [
    "#Decommentare questa riga per vedere i risultati.\n",
    "#tot"
   ]
  }
 ],
 "metadata": {
  "kernelspec": {
   "display_name": "Python 3",
   "language": "python",
   "name": "python3"
  },
  "language_info": {
   "codemirror_mode": {
    "name": "ipython",
    "version": 3
   },
   "file_extension": ".py",
   "mimetype": "text/x-python",
   "name": "python",
   "nbconvert_exporter": "python",
   "pygments_lexer": "ipython3",
   "version": "3.7.4"
  }
 },
 "nbformat": 4,
 "nbformat_minor": 4
}
