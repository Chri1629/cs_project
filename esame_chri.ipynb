{
 "cells": [
  {
   "cell_type": "markdown",
   "metadata": {},
   "source": [
    "# Progetto Computer Science\n",
    "\n",
    "*Nome:* Christian\n",
    "\n",
    "*Cognome:* Uccheddu\n",
    "\n",
    "*Matricola:* 800428\n"
   ]
  },
  {
   "cell_type": "markdown",
   "metadata": {},
   "source": [
    "# Setup dell'ambiente\n",
    "\n",
    "Importazione di tutte le librerie utili al funzionamento del programma e settaggio dei path in cui sono presenti i dati in modo da essere facilmente cambiabili all'inizio del programma."
   ]
  },
  {
   "cell_type": "code",
   "execution_count": 1,
   "metadata": {},
   "outputs": [],
   "source": [
    "import pandas as pd\n",
    "import datetime\n",
    "import numpy as np"
   ]
  },
  {
   "cell_type": "code",
   "execution_count": null,
   "metadata": {},
   "outputs": [],
   "source": [
    "#Dataset: \"loans.csv\"\n",
    "loans_path = r\"/home/christian/Scrivania/progetti/cs_project/dataset/loans.csv\"\n",
    "#Dataset: \"lenders.csv\"\n",
    "lenders_path = r\"/home/christian/Scrivania/progetti/cs_project/dataset/lenders.csv\"\n",
    "#Dataset: \"loans_lenders.csv\"\n",
    "loans_lenders_path = r\"/home/christian/Scrivania/progetti/cs_project/dataset/loans_lenders.csv\"\n",
    "#Dataset: \"country_stats.csv\"\n",
    "country_stats_path = r\"/home/christian/Scrivania/progetti/cs_project/dataset/country_stats.csv\" "
   ]
  },
  {
   "cell_type": "markdown",
   "metadata": {},
   "source": [
    "**1. Normalize the loan_lenders table. In the normalized table, each row must have one loan_id and one lender.**"
   ]
  },
  {
   "cell_type": "code",
   "execution_count": null,
   "metadata": {},
   "outputs": [],
   "source": []
  }
 ],
 "metadata": {
  "kernelspec": {
   "display_name": "Python 3",
   "language": "python",
   "name": "python3"
  },
  "language_info": {
   "codemirror_mode": {
    "name": "ipython",
    "version": 3
   },
   "file_extension": ".py",
   "mimetype": "text/x-python",
   "name": "python",
   "nbconvert_exporter": "python",
   "pygments_lexer": "ipython3",
   "version": "3.7.4"
  }
 },
 "nbformat": 4,
 "nbformat_minor": 4
}
